{
  "nbformat": 4,
  "nbformat_minor": 0,
  "metadata": {
    "colab": {
      "name": "Churn_Models(8).ipynb",
      "provenance": [],
      "collapsed_sections": []
    },
    "kernelspec": {
      "display_name": "Python 3",
      "language": "python",
      "name": "python3"
    },
    "language_info": {
      "codemirror_mode": {
        "name": "ipython",
        "version": 3
      },
      "file_extension": ".py",
      "mimetype": "text/x-python",
      "name": "python",
      "nbconvert_exporter": "python",
      "pygments_lexer": "ipython3",
      "version": "3.7.0"
    }
  },
  "cells": [
    {
      "cell_type": "markdown",
      "metadata": {
        "id": "1jRcThnh8K8K"
      },
      "source": [
        "# Create 5 models for Customer Churn Prediction \n",
        "1.Linear Regression   2.Decision Tree   3.Random Forest   4.XGBoost   5.Neural Network"
      ]
    },
    {
      "cell_type": "code",
      "metadata": {
        "scrolled": true,
        "id": "VJWhSSILmuUF",
        "outputId": "ec2a0644-c3da-4adb-da79-455b4c06be0a",
        "colab": {
          "base_uri": "https://localhost:8080/",
          "height": 380
        }
      },
      "source": [
        "import pandas as pd\n",
        "import sklearn\n",
        "import numpy as np\n",
        "from sklearn.model_selection import train_test_split\n",
        "from sklearn import tree\n",
        "from sklearn import linear_model\n",
        "from sklearn import preprocessing\n",
        "from sklearn.metrics import confusion_matrix, accuracy_score,f1_score, roc_curve, classification_report,roc_auc_score\n",
        "from matplotlib import pyplot as plt \n",
        "from keras.models import Sequential\n",
        "from keras.layers import Dense\n",
        "from sklearn.ensemble import RandomForestClassifier,GradientBoostingClassifier\n",
        "from google.colab import drive\n",
        "\n",
        "# draw ROC curve\n",
        "from sklearn.metrics import roc_curve\n",
        "from sklearn.metrics import roc_auc_score\n",
        "from sklearn.metrics import confusion_matrix\n",
        "import matplotlib.pyplot as plt\n",
        "\n",
        "\n",
        "def plot_roc_curve(test_y, probs):\n",
        "    # generate a no skill prediction (majority class)\n",
        "    ns_probs = [0 for _ in range(len(test_y))]\n",
        "    # calculate scores\n",
        "    ns_auc = roc_auc_score(test_y, ns_probs)\n",
        "    auc = roc_auc_score(test_y, probs)\n",
        "    # summarize scores\n",
        "    #print('No Skill: ROC AUC=%.3f' % (ns_auc))\n",
        "    print('Logistic: ROC AUC: %.3f' % (auc))\n",
        "    # calculate roc curves\n",
        "    ns_fpr, ns_tpr, _ = roc_curve(test_y, ns_probs)\n",
        "    fpr, tpr, _ = roc_curve(test_y, probs)\n",
        "\n",
        "    # plot the roc curve for the model\n",
        "    plt.plot(ns_fpr, ns_tpr, linestyle='--', label='No Skill')\n",
        "    plt.plot(fpr, tpr, linestyle='--', label='Model')\n",
        "    # axis labels\n",
        "    plt.xlabel('False Positive Rate')\n",
        "    plt.ylabel('True Positive Rate')\n",
        "    # show the legend\n",
        "    plt.ylim((0,1))\n",
        "    plt.xlim((0,1))\n",
        "    plt.legend()\n",
        "    # show the plot\n",
        "    plt.show()\n",
        "\n",
        "def get_accuracy(y_true,y_pred):\n",
        "    return sum(y_true==y_pred)/len(y_true)\n",
        "\n",
        "def plot_confusion_matrix(cm):\n",
        "    import matplotlib.pyplot as plt\n",
        "    from itertools import product\n",
        "    import numpy as np\n",
        "    fig, ax = plt.subplots()\n",
        "    cmap='Blues'\n",
        "    im_ = ax.imshow(cm, interpolation='nearest', cmap='Blues')\n",
        "    xlen,ylen = cm.shape\n",
        "    thresh = (cm.max() + cm.min()) / xlen\n",
        "    display_labels=(0,1)\n",
        "    cmap_min, cmap_max = im_.cmap(0), im_.cmap(256)\n",
        "    for i, j in product(range(xlen), range(xlen)):\n",
        "        color = cmap_max if cm[i, j] < thresh else cmap_min\n",
        "        ax.text(j, i,format(cm[i, j], '.0f'),ha=\"center\", va=\"center\",color=color)\n",
        "    fig.colorbar(im_, ax=ax)\n",
        "    ax.set(xticks=np.arange(xlen),\n",
        "        yticks=np.arange(ylen),\n",
        "        xticklabels=display_labels,\n",
        "        yticklabels=display_labels,\n",
        "        ylabel=\"True label\",\n",
        "        xlabel=\"Predicted label\")\n",
        "    ax.set_ylim((2 - 0.5, -0.5))\n",
        "    plt.show()\n",
        "    return None\n",
        "\n",
        "def evaluation(X_test, clf, y_test):\n",
        "  y_pred = clf.predict(X_test)\n",
        "  print('Classification Report')\n",
        "  print(classification_report(y_test, y_pred))\n",
        "\n",
        "  accuracy = accuracy_score(y_test, y_pred)\n",
        "  print('Accuracy: ',np.round(accuracy*100, 2), '%')\n",
        "      \n",
        "  #print('F1-Score: ',np.round(f1_score(y_test, y_pred)*100,2), '%')\n",
        "\n",
        "def evaluation_nn(X_test, clf, y_test):\n",
        "  y_pred = (clf.predict(X_test)>0.5).reshape(y_test.shape)\n",
        "  print('Classification Report')\n",
        "  print(classification_report(y_test, y_pred))\n",
        "\n",
        "  accuracy = accuracy_score(y_test, y_pred)\n",
        "  print('Accuracy: ',np.round(accuracy*100, 2), '%')\n",
        "      \n",
        "  #print('F1-Score: ',np.round(f1_score(y_test, y_pred)*100,2), '%')\n",
        "    \n",
        "\n",
        "\n",
        "drive.mount('/content/drive')\n",
        "#Importing data\n",
        "dataset = pd.read_csv('/content/drive/My Drive/Churn_Modelling.csv',delimiter=\",\")\n",
        "#Printing head\n",
        "df = dataset.copy()\n",
        "df.head(10)\n"
      ],
      "execution_count": 1,
      "outputs": [
        {
          "output_type": "stream",
          "text": [
            "Mounted at /content/drive\n"
          ],
          "name": "stdout"
        },
        {
          "output_type": "execute_result",
          "data": {
            "text/html": [
              "<div>\n",
              "<style scoped>\n",
              "    .dataframe tbody tr th:only-of-type {\n",
              "        vertical-align: middle;\n",
              "    }\n",
              "\n",
              "    .dataframe tbody tr th {\n",
              "        vertical-align: top;\n",
              "    }\n",
              "\n",
              "    .dataframe thead th {\n",
              "        text-align: right;\n",
              "    }\n",
              "</style>\n",
              "<table border=\"1\" class=\"dataframe\">\n",
              "  <thead>\n",
              "    <tr style=\"text-align: right;\">\n",
              "      <th></th>\n",
              "      <th>RowNumber</th>\n",
              "      <th>CustomerId</th>\n",
              "      <th>Surname</th>\n",
              "      <th>CreditScore</th>\n",
              "      <th>Geography</th>\n",
              "      <th>Gender</th>\n",
              "      <th>Age</th>\n",
              "      <th>Tenure</th>\n",
              "      <th>Balance</th>\n",
              "      <th>NumOfProducts</th>\n",
              "      <th>HasCrCard</th>\n",
              "      <th>IsActiveMember</th>\n",
              "      <th>EstimatedSalary</th>\n",
              "      <th>Exited</th>\n",
              "    </tr>\n",
              "  </thead>\n",
              "  <tbody>\n",
              "    <tr>\n",
              "      <th>0</th>\n",
              "      <td>1</td>\n",
              "      <td>15634602</td>\n",
              "      <td>Hargrave</td>\n",
              "      <td>619</td>\n",
              "      <td>France</td>\n",
              "      <td>Female</td>\n",
              "      <td>42</td>\n",
              "      <td>2</td>\n",
              "      <td>0.00</td>\n",
              "      <td>1</td>\n",
              "      <td>1</td>\n",
              "      <td>1</td>\n",
              "      <td>101348.88</td>\n",
              "      <td>1</td>\n",
              "    </tr>\n",
              "    <tr>\n",
              "      <th>1</th>\n",
              "      <td>2</td>\n",
              "      <td>15647311</td>\n",
              "      <td>Hill</td>\n",
              "      <td>608</td>\n",
              "      <td>Spain</td>\n",
              "      <td>Female</td>\n",
              "      <td>41</td>\n",
              "      <td>1</td>\n",
              "      <td>83807.86</td>\n",
              "      <td>1</td>\n",
              "      <td>0</td>\n",
              "      <td>1</td>\n",
              "      <td>112542.58</td>\n",
              "      <td>0</td>\n",
              "    </tr>\n",
              "    <tr>\n",
              "      <th>2</th>\n",
              "      <td>3</td>\n",
              "      <td>15619304</td>\n",
              "      <td>Onio</td>\n",
              "      <td>502</td>\n",
              "      <td>France</td>\n",
              "      <td>Female</td>\n",
              "      <td>42</td>\n",
              "      <td>8</td>\n",
              "      <td>159660.80</td>\n",
              "      <td>3</td>\n",
              "      <td>1</td>\n",
              "      <td>0</td>\n",
              "      <td>113931.57</td>\n",
              "      <td>1</td>\n",
              "    </tr>\n",
              "    <tr>\n",
              "      <th>3</th>\n",
              "      <td>4</td>\n",
              "      <td>15701354</td>\n",
              "      <td>Boni</td>\n",
              "      <td>699</td>\n",
              "      <td>France</td>\n",
              "      <td>Female</td>\n",
              "      <td>39</td>\n",
              "      <td>1</td>\n",
              "      <td>0.00</td>\n",
              "      <td>2</td>\n",
              "      <td>0</td>\n",
              "      <td>0</td>\n",
              "      <td>93826.63</td>\n",
              "      <td>0</td>\n",
              "    </tr>\n",
              "    <tr>\n",
              "      <th>4</th>\n",
              "      <td>5</td>\n",
              "      <td>15737888</td>\n",
              "      <td>Mitchell</td>\n",
              "      <td>850</td>\n",
              "      <td>Spain</td>\n",
              "      <td>Female</td>\n",
              "      <td>43</td>\n",
              "      <td>2</td>\n",
              "      <td>125510.82</td>\n",
              "      <td>1</td>\n",
              "      <td>1</td>\n",
              "      <td>1</td>\n",
              "      <td>79084.10</td>\n",
              "      <td>0</td>\n",
              "    </tr>\n",
              "    <tr>\n",
              "      <th>5</th>\n",
              "      <td>6</td>\n",
              "      <td>15574012</td>\n",
              "      <td>Chu</td>\n",
              "      <td>645</td>\n",
              "      <td>Spain</td>\n",
              "      <td>Male</td>\n",
              "      <td>44</td>\n",
              "      <td>8</td>\n",
              "      <td>113755.78</td>\n",
              "      <td>2</td>\n",
              "      <td>1</td>\n",
              "      <td>0</td>\n",
              "      <td>149756.71</td>\n",
              "      <td>1</td>\n",
              "    </tr>\n",
              "    <tr>\n",
              "      <th>6</th>\n",
              "      <td>7</td>\n",
              "      <td>15592531</td>\n",
              "      <td>Bartlett</td>\n",
              "      <td>822</td>\n",
              "      <td>France</td>\n",
              "      <td>Male</td>\n",
              "      <td>50</td>\n",
              "      <td>7</td>\n",
              "      <td>0.00</td>\n",
              "      <td>2</td>\n",
              "      <td>1</td>\n",
              "      <td>1</td>\n",
              "      <td>10062.80</td>\n",
              "      <td>0</td>\n",
              "    </tr>\n",
              "    <tr>\n",
              "      <th>7</th>\n",
              "      <td>8</td>\n",
              "      <td>15656148</td>\n",
              "      <td>Obinna</td>\n",
              "      <td>376</td>\n",
              "      <td>Germany</td>\n",
              "      <td>Female</td>\n",
              "      <td>29</td>\n",
              "      <td>4</td>\n",
              "      <td>115046.74</td>\n",
              "      <td>4</td>\n",
              "      <td>1</td>\n",
              "      <td>0</td>\n",
              "      <td>119346.88</td>\n",
              "      <td>1</td>\n",
              "    </tr>\n",
              "    <tr>\n",
              "      <th>8</th>\n",
              "      <td>9</td>\n",
              "      <td>15792365</td>\n",
              "      <td>He</td>\n",
              "      <td>501</td>\n",
              "      <td>France</td>\n",
              "      <td>Male</td>\n",
              "      <td>44</td>\n",
              "      <td>4</td>\n",
              "      <td>142051.07</td>\n",
              "      <td>2</td>\n",
              "      <td>0</td>\n",
              "      <td>1</td>\n",
              "      <td>74940.50</td>\n",
              "      <td>0</td>\n",
              "    </tr>\n",
              "    <tr>\n",
              "      <th>9</th>\n",
              "      <td>10</td>\n",
              "      <td>15592389</td>\n",
              "      <td>H?</td>\n",
              "      <td>684</td>\n",
              "      <td>France</td>\n",
              "      <td>Male</td>\n",
              "      <td>27</td>\n",
              "      <td>2</td>\n",
              "      <td>134603.88</td>\n",
              "      <td>1</td>\n",
              "      <td>1</td>\n",
              "      <td>1</td>\n",
              "      <td>71725.73</td>\n",
              "      <td>0</td>\n",
              "    </tr>\n",
              "  </tbody>\n",
              "</table>\n",
              "</div>"
            ],
            "text/plain": [
              "   RowNumber  CustomerId   Surname  ...  IsActiveMember EstimatedSalary Exited\n",
              "0          1    15634602  Hargrave  ...               1       101348.88      1\n",
              "1          2    15647311      Hill  ...               1       112542.58      0\n",
              "2          3    15619304      Onio  ...               0       113931.57      1\n",
              "3          4    15701354      Boni  ...               0        93826.63      0\n",
              "4          5    15737888  Mitchell  ...               1        79084.10      0\n",
              "5          6    15574012       Chu  ...               0       149756.71      1\n",
              "6          7    15592531  Bartlett  ...               1        10062.80      0\n",
              "7          8    15656148    Obinna  ...               0       119346.88      1\n",
              "8          9    15792365        He  ...               1        74940.50      0\n",
              "9         10    15592389        H?  ...               1        71725.73      0\n",
              "\n",
              "[10 rows x 14 columns]"
            ]
          },
          "metadata": {
            "tags": []
          },
          "execution_count": 1
        }
      ]
    },
    {
      "cell_type": "code",
      "metadata": {
        "id": "p4pcTgCNwv4E",
        "outputId": "e89623ca-de0c-45b2-9606-3b86a65806e6",
        "colab": {
          "base_uri": "https://localhost:8080/",
          "height": 195
        }
      },
      "source": [
        "df.head()"
      ],
      "execution_count": null,
      "outputs": [
        {
          "output_type": "execute_result",
          "data": {
            "text/html": [
              "<div>\n",
              "<style scoped>\n",
              "    .dataframe tbody tr th:only-of-type {\n",
              "        vertical-align: middle;\n",
              "    }\n",
              "\n",
              "    .dataframe tbody tr th {\n",
              "        vertical-align: top;\n",
              "    }\n",
              "\n",
              "    .dataframe thead th {\n",
              "        text-align: right;\n",
              "    }\n",
              "</style>\n",
              "<table border=\"1\" class=\"dataframe\">\n",
              "  <thead>\n",
              "    <tr style=\"text-align: right;\">\n",
              "      <th></th>\n",
              "      <th>RowNumber</th>\n",
              "      <th>CustomerId</th>\n",
              "      <th>Surname</th>\n",
              "      <th>CreditScore</th>\n",
              "      <th>Geography</th>\n",
              "      <th>Gender</th>\n",
              "      <th>Age</th>\n",
              "      <th>Tenure</th>\n",
              "      <th>Balance</th>\n",
              "      <th>NumOfProducts</th>\n",
              "      <th>HasCrCard</th>\n",
              "      <th>IsActiveMember</th>\n",
              "      <th>EstimatedSalary</th>\n",
              "      <th>Exited</th>\n",
              "    </tr>\n",
              "  </thead>\n",
              "  <tbody>\n",
              "    <tr>\n",
              "      <th>0</th>\n",
              "      <td>1</td>\n",
              "      <td>15634602</td>\n",
              "      <td>Hargrave</td>\n",
              "      <td>619</td>\n",
              "      <td>France</td>\n",
              "      <td>Female</td>\n",
              "      <td>42</td>\n",
              "      <td>2</td>\n",
              "      <td>0.00</td>\n",
              "      <td>1</td>\n",
              "      <td>1</td>\n",
              "      <td>1</td>\n",
              "      <td>101348.88</td>\n",
              "      <td>1</td>\n",
              "    </tr>\n",
              "    <tr>\n",
              "      <th>1</th>\n",
              "      <td>2</td>\n",
              "      <td>15647311</td>\n",
              "      <td>Hill</td>\n",
              "      <td>608</td>\n",
              "      <td>Spain</td>\n",
              "      <td>Female</td>\n",
              "      <td>41</td>\n",
              "      <td>1</td>\n",
              "      <td>83807.86</td>\n",
              "      <td>1</td>\n",
              "      <td>0</td>\n",
              "      <td>1</td>\n",
              "      <td>112542.58</td>\n",
              "      <td>0</td>\n",
              "    </tr>\n",
              "    <tr>\n",
              "      <th>2</th>\n",
              "      <td>3</td>\n",
              "      <td>15619304</td>\n",
              "      <td>Onio</td>\n",
              "      <td>502</td>\n",
              "      <td>France</td>\n",
              "      <td>Female</td>\n",
              "      <td>42</td>\n",
              "      <td>8</td>\n",
              "      <td>159660.80</td>\n",
              "      <td>3</td>\n",
              "      <td>1</td>\n",
              "      <td>0</td>\n",
              "      <td>113931.57</td>\n",
              "      <td>1</td>\n",
              "    </tr>\n",
              "    <tr>\n",
              "      <th>3</th>\n",
              "      <td>4</td>\n",
              "      <td>15701354</td>\n",
              "      <td>Boni</td>\n",
              "      <td>699</td>\n",
              "      <td>France</td>\n",
              "      <td>Female</td>\n",
              "      <td>39</td>\n",
              "      <td>1</td>\n",
              "      <td>0.00</td>\n",
              "      <td>2</td>\n",
              "      <td>0</td>\n",
              "      <td>0</td>\n",
              "      <td>93826.63</td>\n",
              "      <td>0</td>\n",
              "    </tr>\n",
              "    <tr>\n",
              "      <th>4</th>\n",
              "      <td>5</td>\n",
              "      <td>15737888</td>\n",
              "      <td>Mitchell</td>\n",
              "      <td>850</td>\n",
              "      <td>Spain</td>\n",
              "      <td>Female</td>\n",
              "      <td>43</td>\n",
              "      <td>2</td>\n",
              "      <td>125510.82</td>\n",
              "      <td>1</td>\n",
              "      <td>1</td>\n",
              "      <td>1</td>\n",
              "      <td>79084.10</td>\n",
              "      <td>0</td>\n",
              "    </tr>\n",
              "  </tbody>\n",
              "</table>\n",
              "</div>"
            ],
            "text/plain": [
              "   RowNumber  CustomerId   Surname  ...  IsActiveMember EstimatedSalary Exited\n",
              "0          1    15634602  Hargrave  ...               1       101348.88      1\n",
              "1          2    15647311      Hill  ...               1       112542.58      0\n",
              "2          3    15619304      Onio  ...               0       113931.57      1\n",
              "3          4    15701354      Boni  ...               0        93826.63      0\n",
              "4          5    15737888  Mitchell  ...               1        79084.10      0\n",
              "\n",
              "[5 rows x 14 columns]"
            ]
          },
          "metadata": {
            "tags": []
          },
          "execution_count": 2
        }
      ]
    },
    {
      "cell_type": "markdown",
      "metadata": {
        "id": "ixPYYTCPmuUM"
      },
      "source": [
        "# Data cleaning\n",
        "find errors in dataset"
      ]
    },
    {
      "cell_type": "code",
      "metadata": {
        "scrolled": true,
        "id": "kbxBJR09muUN",
        "outputId": "a69fbdc0-a8c7-445d-d0e1-1aa79bead031",
        "colab": {
          "base_uri": "https://localhost:8080/",
          "height": 34
        }
      },
      "source": [
        "errors=[]\n",
        "for i in df['Age']:\n",
        "    try:\n",
        "        i = int(i)\n",
        "    except:\n",
        "        errors.append(i)\n",
        "print(errors)"
      ],
      "execution_count": null,
      "outputs": [
        {
          "output_type": "stream",
          "text": [
            "[]\n"
          ],
          "name": "stdout"
        }
      ]
    },
    {
      "cell_type": "code",
      "metadata": {
        "id": "V2IVpyGamuUU",
        "outputId": "b67fdc5f-9fb2-41ef-f58c-41af7fc934fe",
        "colab": {
          "base_uri": "https://localhost:8080/",
          "height": 34
        }
      },
      "source": [
        "errors =[]\n",
        "for i in df['Balance']:\n",
        "    try:\n",
        "        i = int(i)\n",
        "    except:\n",
        "        errors.append(i)\n",
        "print(errors)\n",
        " "
      ],
      "execution_count": null,
      "outputs": [
        {
          "output_type": "stream",
          "text": [
            "[]\n"
          ],
          "name": "stdout"
        }
      ]
    },
    {
      "cell_type": "markdown",
      "metadata": {
        "id": "sAS-mjt7muUZ"
      },
      "source": [
        "Find outliers (in balance) and replace them by the mean of the \n",
        "dataset"
      ]
    },
    {
      "cell_type": "code",
      "metadata": {
        "id": "N2WHoh85muUa",
        "outputId": "b8d77d8e-62fa-41b5-d385-1c1e71aaadc9",
        "colab": {
          "base_uri": "https://localhost:8080/",
          "height": 282
        }
      },
      "source": [
        "x = list(range(0,len(df['Balance'])))\n",
        "y = df['Balance']\n",
        "plt.scatter(x,y,c='b',marker='.')"
      ],
      "execution_count": null,
      "outputs": [
        {
          "output_type": "execute_result",
          "data": {
            "text/plain": [
              "<matplotlib.collections.PathCollection at 0x7fb5a3afacf8>"
            ]
          },
          "metadata": {
            "tags": []
          },
          "execution_count": 2
        },
        {
          "output_type": "display_data",
          "data": {
            "image/png": "[encoded data removed]",
            "text/plain": [
              "<Figure size 432x288 with 1 Axes>"
            ]
          },
          "metadata": {
            "tags": [],
            "needs_background": "light"
          }
        }
      ]
    },
    {
      "cell_type": "code",
      "metadata": {
        "id": "Qtb3LbZub9SZ",
        "outputId": "c6ed915c-8874-4912-8b1a-0cf949195920",
        "colab": {
          "base_uri": "https://localhost:8080/",
          "height": 34
        }
      },
      "source": [
        "from collections import Counter\n",
        "print(Counter(df['Exited']))"
      ],
      "execution_count": null,
      "outputs": [
        {
          "output_type": "stream",
          "text": [
            "Counter({0: 7963, 1: 2037})\n"
          ],
          "name": "stdout"
        }
      ]
    },
    {
      "cell_type": "markdown",
      "metadata": {
        "id": "rI6ktOzPmuUi"
      },
      "source": [
        "# One-Hot encoding\n"
      ]
    },
    {
      "cell_type": "code",
      "metadata": {
        "id": "uOa-PDmmvdww",
        "outputId": "06f75fd7-652f-4ca6-f3a5-1fdf1b9c562d",
        "colab": {
          "base_uri": "https://localhost:8080/",
          "height": 343
        }
      },
      "source": [
        "df=dataset\n",
        "df[\"Gender\"]=df[\"Gender\"].map(lambda x: 0 if x=='Female' else 1)\n",
        "X_initial = df.iloc[:,3:13]\n",
        "y_initial = df.iloc[:,13]\n",
        "geography = pd.get_dummies(df['Geography'],drop_first=True)\n",
        "X_initial= pd.concat([X_initial, geography], axis=1)\n",
        "X_initial = X_initial.drop(['Geography'], axis=1)\n",
        "X_initial.head(10)"
      ],
      "execution_count": 2,
      "outputs": [
        {
          "output_type": "execute_result",
          "data": {
            "text/html": [
              "<div>\n",
              "<style scoped>\n",
              "    .dataframe tbody tr th:only-of-type {\n",
              "        vertical-align: middle;\n",
              "    }\n",
              "\n",
              "    .dataframe tbody tr th {\n",
              "        vertical-align: top;\n",
              "    }\n",
              "\n",
              "    .dataframe thead th {\n",
              "        text-align: right;\n",
              "    }\n",
              "</style>\n",
              "<table border=\"1\" class=\"dataframe\">\n",
              "  <thead>\n",
              "    <tr style=\"text-align: right;\">\n",
              "      <th></th>\n",
              "      <th>CreditScore</th>\n",
              "      <th>Gender</th>\n",
              "      <th>Age</th>\n",
              "      <th>Tenure</th>\n",
              "      <th>Balance</th>\n",
              "      <th>NumOfProducts</th>\n",
              "      <th>HasCrCard</th>\n",
              "      <th>IsActiveMember</th>\n",
              "      <th>EstimatedSalary</th>\n",
              "      <th>Germany</th>\n",
              "      <th>Spain</th>\n",
              "    </tr>\n",
              "  </thead>\n",
              "  <tbody>\n",
              "    <tr>\n",
              "      <th>0</th>\n",
              "      <td>619</td>\n",
              "      <td>0</td>\n",
              "      <td>42</td>\n",
              "      <td>2</td>\n",
              "      <td>0.00</td>\n",
              "      <td>1</td>\n",
              "      <td>1</td>\n",
              "      <td>1</td>\n",
              "      <td>101348.88</td>\n",
              "      <td>0</td>\n",
              "      <td>0</td>\n",
              "    </tr>\n",
              "    <tr>\n",
              "      <th>1</th>\n",
              "      <td>608</td>\n",
              "      <td>0</td>\n",
              "      <td>41</td>\n",
              "      <td>1</td>\n",
              "      <td>83807.86</td>\n",
              "      <td>1</td>\n",
              "      <td>0</td>\n",
              "      <td>1</td>\n",
              "      <td>112542.58</td>\n",
              "      <td>0</td>\n",
              "      <td>1</td>\n",
              "    </tr>\n",
              "    <tr>\n",
              "      <th>2</th>\n",
              "      <td>502</td>\n",
              "      <td>0</td>\n",
              "      <td>42</td>\n",
              "      <td>8</td>\n",
              "      <td>159660.80</td>\n",
              "      <td>3</td>\n",
              "      <td>1</td>\n",
              "      <td>0</td>\n",
              "      <td>113931.57</td>\n",
              "      <td>0</td>\n",
              "      <td>0</td>\n",
              "    </tr>\n",
              "    <tr>\n",
              "      <th>3</th>\n",
              "      <td>699</td>\n",
              "      <td>0</td>\n",
              "      <td>39</td>\n",
              "      <td>1</td>\n",
              "      <td>0.00</td>\n",
              "      <td>2</td>\n",
              "      <td>0</td>\n",
              "      <td>0</td>\n",
              "      <td>93826.63</td>\n",
              "      <td>0</td>\n",
              "      <td>0</td>\n",
              "    </tr>\n",
              "    <tr>\n",
              "      <th>4</th>\n",
              "      <td>850</td>\n",
              "      <td>0</td>\n",
              "      <td>43</td>\n",
              "      <td>2</td>\n",
              "      <td>125510.82</td>\n",
              "      <td>1</td>\n",
              "      <td>1</td>\n",
              "      <td>1</td>\n",
              "      <td>79084.10</td>\n",
              "      <td>0</td>\n",
              "      <td>1</td>\n",
              "    </tr>\n",
              "    <tr>\n",
              "      <th>5</th>\n",
              "      <td>645</td>\n",
              "      <td>1</td>\n",
              "      <td>44</td>\n",
              "      <td>8</td>\n",
              "      <td>113755.78</td>\n",
              "      <td>2</td>\n",
              "      <td>1</td>\n",
              "      <td>0</td>\n",
              "      <td>149756.71</td>\n",
              "      <td>0</td>\n",
              "      <td>1</td>\n",
              "    </tr>\n",
              "    <tr>\n",
              "      <th>6</th>\n",
              "      <td>822</td>\n",
              "      <td>1</td>\n",
              "      <td>50</td>\n",
              "      <td>7</td>\n",
              "      <td>0.00</td>\n",
              "      <td>2</td>\n",
              "      <td>1</td>\n",
              "      <td>1</td>\n",
              "      <td>10062.80</td>\n",
              "      <td>0</td>\n",
              "      <td>0</td>\n",
              "    </tr>\n",
              "    <tr>\n",
              "      <th>7</th>\n",
              "      <td>376</td>\n",
              "      <td>0</td>\n",
              "      <td>29</td>\n",
              "      <td>4</td>\n",
              "      <td>115046.74</td>\n",
              "      <td>4</td>\n",
              "      <td>1</td>\n",
              "      <td>0</td>\n",
              "      <td>119346.88</td>\n",
              "      <td>1</td>\n",
              "      <td>0</td>\n",
              "    </tr>\n",
              "    <tr>\n",
              "      <th>8</th>\n",
              "      <td>501</td>\n",
              "      <td>1</td>\n",
              "      <td>44</td>\n",
              "      <td>4</td>\n",
              "      <td>142051.07</td>\n",
              "      <td>2</td>\n",
              "      <td>0</td>\n",
              "      <td>1</td>\n",
              "      <td>74940.50</td>\n",
              "      <td>0</td>\n",
              "      <td>0</td>\n",
              "    </tr>\n",
              "    <tr>\n",
              "      <th>9</th>\n",
              "      <td>684</td>\n",
              "      <td>1</td>\n",
              "      <td>27</td>\n",
              "      <td>2</td>\n",
              "      <td>134603.88</td>\n",
              "      <td>1</td>\n",
              "      <td>1</td>\n",
              "      <td>1</td>\n",
              "      <td>71725.73</td>\n",
              "      <td>0</td>\n",
              "      <td>0</td>\n",
              "    </tr>\n",
              "  </tbody>\n",
              "</table>\n",
              "</div>"
            ],
            "text/plain": [
              "   CreditScore  Gender  Age  ...  EstimatedSalary  Germany  Spain\n",
              "0          619       0   42  ...        101348.88        0      0\n",
              "1          608       0   41  ...        112542.58        0      1\n",
              "2          502       0   42  ...        113931.57        0      0\n",
              "3          699       0   39  ...         93826.63        0      0\n",
              "4          850       0   43  ...         79084.10        0      1\n",
              "5          645       1   44  ...        149756.71        0      1\n",
              "6          822       1   50  ...         10062.80        0      0\n",
              "7          376       0   29  ...        119346.88        1      0\n",
              "8          501       1   44  ...         74940.50        0      0\n",
              "9          684       1   27  ...         71725.73        0      0\n",
              "\n",
              "[10 rows x 11 columns]"
            ]
          },
          "metadata": {
            "tags": []
          },
          "execution_count": 2
        }
      ]
    },
    {
      "cell_type": "code",
      "metadata": {
        "id": "k599V4eieQTw",
        "outputId": "ecfd0726-d34b-4ab7-86fa-2bb99e642565",
        "colab": {
          "base_uri": "https://localhost:8080/",
          "height": 34
        }
      },
      "source": [
        "type(y_train)"
      ],
      "execution_count": null,
      "outputs": [
        {
          "output_type": "execute_result",
          "data": {
            "text/plain": [
              "numpy.ndarray"
            ]
          },
          "metadata": {
            "tags": []
          },
          "execution_count": 145
        }
      ]
    },
    {
      "cell_type": "code",
      "metadata": {
        "id": "wfENWIbfserG",
        "outputId": "1ad7b27b-cab8-4008-be84-946817b35324",
        "colab": {
          "base_uri": "https://localhost:8080/",
          "height": 343
        }
      },
      "source": [
        "#X[\"Exited\"]=y\n",
        "#X.head(10)"
      ],
      "execution_count": null,
      "outputs": [
        {
          "output_type": "execute_result",
          "data": {
            "text/html": [
              "<div>\n",
              "<style scoped>\n",
              "    .dataframe tbody tr th:only-of-type {\n",
              "        vertical-align: middle;\n",
              "    }\n",
              "\n",
              "    .dataframe tbody tr th {\n",
              "        vertical-align: top;\n",
              "    }\n",
              "\n",
              "    .dataframe thead th {\n",
              "        text-align: right;\n",
              "    }\n",
              "</style>\n",
              "<table border=\"1\" class=\"dataframe\">\n",
              "  <thead>\n",
              "    <tr style=\"text-align: right;\">\n",
              "      <th></th>\n",
              "      <th>CreditScore</th>\n",
              "      <th>Gender</th>\n",
              "      <th>Age</th>\n",
              "      <th>Tenure</th>\n",
              "      <th>Balance</th>\n",
              "      <th>NumOfProducts</th>\n",
              "      <th>HasCrCard</th>\n",
              "      <th>IsActiveMember</th>\n",
              "      <th>EstimatedSalary</th>\n",
              "      <th>Germany</th>\n",
              "      <th>Spain</th>\n",
              "      <th>Exited</th>\n",
              "    </tr>\n",
              "  </thead>\n",
              "  <tbody>\n",
              "    <tr>\n",
              "      <th>0</th>\n",
              "      <td>619</td>\n",
              "      <td>0</td>\n",
              "      <td>42</td>\n",
              "      <td>2</td>\n",
              "      <td>0.00</td>\n",
              "      <td>1</td>\n",
              "      <td>1</td>\n",
              "      <td>1</td>\n",
              "      <td>101348.88</td>\n",
              "      <td>0</td>\n",
              "      <td>0</td>\n",
              "      <td>1</td>\n",
              "    </tr>\n",
              "    <tr>\n",
              "      <th>1</th>\n",
              "      <td>608</td>\n",
              "      <td>0</td>\n",
              "      <td>41</td>\n",
              "      <td>1</td>\n",
              "      <td>83807.86</td>\n",
              "      <td>1</td>\n",
              "      <td>0</td>\n",
              "      <td>1</td>\n",
              "      <td>112542.58</td>\n",
              "      <td>0</td>\n",
              "      <td>1</td>\n",
              "      <td>0</td>\n",
              "    </tr>\n",
              "    <tr>\n",
              "      <th>2</th>\n",
              "      <td>502</td>\n",
              "      <td>0</td>\n",
              "      <td>42</td>\n",
              "      <td>8</td>\n",
              "      <td>159660.80</td>\n",
              "      <td>3</td>\n",
              "      <td>1</td>\n",
              "      <td>0</td>\n",
              "      <td>113931.57</td>\n",
              "      <td>0</td>\n",
              "      <td>0</td>\n",
              "      <td>1</td>\n",
              "    </tr>\n",
              "    <tr>\n",
              "      <th>3</th>\n",
              "      <td>699</td>\n",
              "      <td>0</td>\n",
              "      <td>39</td>\n",
              "      <td>1</td>\n",
              "      <td>0.00</td>\n",
              "      <td>2</td>\n",
              "      <td>0</td>\n",
              "      <td>0</td>\n",
              "      <td>93826.63</td>\n",
              "      <td>0</td>\n",
              "      <td>0</td>\n",
              "      <td>0</td>\n",
              "    </tr>\n",
              "    <tr>\n",
              "      <th>4</th>\n",
              "      <td>850</td>\n",
              "      <td>0</td>\n",
              "      <td>43</td>\n",
              "      <td>2</td>\n",
              "      <td>125510.82</td>\n",
              "      <td>1</td>\n",
              "      <td>1</td>\n",
              "      <td>1</td>\n",
              "      <td>79084.10</td>\n",
              "      <td>0</td>\n",
              "      <td>1</td>\n",
              "      <td>0</td>\n",
              "    </tr>\n",
              "    <tr>\n",
              "      <th>5</th>\n",
              "      <td>645</td>\n",
              "      <td>1</td>\n",
              "      <td>44</td>\n",
              "      <td>8</td>\n",
              "      <td>113755.78</td>\n",
              "      <td>2</td>\n",
              "      <td>1</td>\n",
              "      <td>0</td>\n",
              "      <td>149756.71</td>\n",
              "      <td>0</td>\n",
              "      <td>1</td>\n",
              "      <td>1</td>\n",
              "    </tr>\n",
              "    <tr>\n",
              "      <th>6</th>\n",
              "      <td>822</td>\n",
              "      <td>1</td>\n",
              "      <td>50</td>\n",
              "      <td>7</td>\n",
              "      <td>0.00</td>\n",
              "      <td>2</td>\n",
              "      <td>1</td>\n",
              "      <td>1</td>\n",
              "      <td>10062.80</td>\n",
              "      <td>0</td>\n",
              "      <td>0</td>\n",
              "      <td>0</td>\n",
              "    </tr>\n",
              "    <tr>\n",
              "      <th>7</th>\n",
              "      <td>376</td>\n",
              "      <td>0</td>\n",
              "      <td>29</td>\n",
              "      <td>4</td>\n",
              "      <td>115046.74</td>\n",
              "      <td>4</td>\n",
              "      <td>1</td>\n",
              "      <td>0</td>\n",
              "      <td>119346.88</td>\n",
              "      <td>1</td>\n",
              "      <td>0</td>\n",
              "      <td>1</td>\n",
              "    </tr>\n",
              "    <tr>\n",
              "      <th>8</th>\n",
              "      <td>501</td>\n",
              "      <td>1</td>\n",
              "      <td>44</td>\n",
              "      <td>4</td>\n",
              "      <td>142051.07</td>\n",
              "      <td>2</td>\n",
              "      <td>0</td>\n",
              "      <td>1</td>\n",
              "      <td>74940.50</td>\n",
              "      <td>0</td>\n",
              "      <td>0</td>\n",
              "      <td>0</td>\n",
              "    </tr>\n",
              "    <tr>\n",
              "      <th>9</th>\n",
              "      <td>684</td>\n",
              "      <td>1</td>\n",
              "      <td>27</td>\n",
              "      <td>2</td>\n",
              "      <td>134603.88</td>\n",
              "      <td>1</td>\n",
              "      <td>1</td>\n",
              "      <td>1</td>\n",
              "      <td>71725.73</td>\n",
              "      <td>0</td>\n",
              "      <td>0</td>\n",
              "      <td>0</td>\n",
              "    </tr>\n",
              "  </tbody>\n",
              "</table>\n",
              "</div>"
            ],
            "text/plain": [
              "   CreditScore  Gender  Age  Tenure  ...  EstimatedSalary  Germany  Spain  Exited\n",
              "0          619       0   42       2  ...        101348.88        0      0       1\n",
              "1          608       0   41       1  ...        112542.58        0      1       0\n",
              "2          502       0   42       8  ...        113931.57        0      0       1\n",
              "3          699       0   39       1  ...         93826.63        0      0       0\n",
              "4          850       0   43       2  ...         79084.10        0      1       0\n",
              "5          645       1   44       8  ...        149756.71        0      1       1\n",
              "6          822       1   50       7  ...         10062.80        0      0       0\n",
              "7          376       0   29       4  ...        119346.88        1      0       1\n",
              "8          501       1   44       4  ...         74940.50        0      0       0\n",
              "9          684       1   27       2  ...         71725.73        0      0       0\n",
              "\n",
              "[10 rows x 12 columns]"
            ]
          },
          "metadata": {
            "tags": []
          },
          "execution_count": 153
        }
      ]
    },
    {
      "cell_type": "code",
      "metadata": {
        "id": "cLOvJ__-muUr",
        "outputId": "8def8185-29d0-4037-96b6-1df945a7ded5",
        "colab": {
          "base_uri": "https://localhost:8080/",
          "height": 284
        }
      },
      "source": [
        "df.describe()"
      ],
      "execution_count": null,
      "outputs": [
        {
          "output_type": "execute_result",
          "data": {
            "text/html": [
              "<div>\n",
              "<style scoped>\n",
              "    .dataframe tbody tr th:only-of-type {\n",
              "        vertical-align: middle;\n",
              "    }\n",
              "\n",
              "    .dataframe tbody tr th {\n",
              "        vertical-align: top;\n",
              "    }\n",
              "\n",
              "    .dataframe thead th {\n",
              "        text-align: right;\n",
              "    }\n",
              "</style>\n",
              "<table border=\"1\" class=\"dataframe\">\n",
              "  <thead>\n",
              "    <tr style=\"text-align: right;\">\n",
              "      <th></th>\n",
              "      <th>RowNumber</th>\n",
              "      <th>CustomerId</th>\n",
              "      <th>CreditScore</th>\n",
              "      <th>Gender</th>\n",
              "      <th>Age</th>\n",
              "      <th>Tenure</th>\n",
              "      <th>Balance</th>\n",
              "      <th>NumOfProducts</th>\n",
              "      <th>HasCrCard</th>\n",
              "      <th>IsActiveMember</th>\n",
              "      <th>EstimatedSalary</th>\n",
              "      <th>Exited</th>\n",
              "    </tr>\n",
              "  </thead>\n",
              "  <tbody>\n",
              "    <tr>\n",
              "      <th>count</th>\n",
              "      <td>10000.00000</td>\n",
              "      <td>1.000000e+04</td>\n",
              "      <td>10000.000000</td>\n",
              "      <td>10000.000000</td>\n",
              "      <td>10000.000000</td>\n",
              "      <td>10000.000000</td>\n",
              "      <td>10000.000000</td>\n",
              "      <td>10000.000000</td>\n",
              "      <td>10000.00000</td>\n",
              "      <td>10000.000000</td>\n",
              "      <td>10000.000000</td>\n",
              "      <td>10000.000000</td>\n",
              "    </tr>\n",
              "    <tr>\n",
              "      <th>mean</th>\n",
              "      <td>5000.50000</td>\n",
              "      <td>1.569094e+07</td>\n",
              "      <td>650.528800</td>\n",
              "      <td>0.545700</td>\n",
              "      <td>38.921800</td>\n",
              "      <td>5.012800</td>\n",
              "      <td>76485.889288</td>\n",
              "      <td>1.530200</td>\n",
              "      <td>0.70550</td>\n",
              "      <td>0.515100</td>\n",
              "      <td>100090.239881</td>\n",
              "      <td>0.203700</td>\n",
              "    </tr>\n",
              "    <tr>\n",
              "      <th>std</th>\n",
              "      <td>2886.89568</td>\n",
              "      <td>7.193619e+04</td>\n",
              "      <td>96.653299</td>\n",
              "      <td>0.497932</td>\n",
              "      <td>10.487806</td>\n",
              "      <td>2.892174</td>\n",
              "      <td>62397.405202</td>\n",
              "      <td>0.581654</td>\n",
              "      <td>0.45584</td>\n",
              "      <td>0.499797</td>\n",
              "      <td>57510.492818</td>\n",
              "      <td>0.402769</td>\n",
              "    </tr>\n",
              "    <tr>\n",
              "      <th>min</th>\n",
              "      <td>1.00000</td>\n",
              "      <td>1.556570e+07</td>\n",
              "      <td>350.000000</td>\n",
              "      <td>0.000000</td>\n",
              "      <td>18.000000</td>\n",
              "      <td>0.000000</td>\n",
              "      <td>0.000000</td>\n",
              "      <td>1.000000</td>\n",
              "      <td>0.00000</td>\n",
              "      <td>0.000000</td>\n",
              "      <td>11.580000</td>\n",
              "      <td>0.000000</td>\n",
              "    </tr>\n",
              "    <tr>\n",
              "      <th>25%</th>\n",
              "      <td>2500.75000</td>\n",
              "      <td>1.562853e+07</td>\n",
              "      <td>584.000000</td>\n",
              "      <td>0.000000</td>\n",
              "      <td>32.000000</td>\n",
              "      <td>3.000000</td>\n",
              "      <td>0.000000</td>\n",
              "      <td>1.000000</td>\n",
              "      <td>0.00000</td>\n",
              "      <td>0.000000</td>\n",
              "      <td>51002.110000</td>\n",
              "      <td>0.000000</td>\n",
              "    </tr>\n",
              "    <tr>\n",
              "      <th>50%</th>\n",
              "      <td>5000.50000</td>\n",
              "      <td>1.569074e+07</td>\n",
              "      <td>652.000000</td>\n",
              "      <td>1.000000</td>\n",
              "      <td>37.000000</td>\n",
              "      <td>5.000000</td>\n",
              "      <td>97198.540000</td>\n",
              "      <td>1.000000</td>\n",
              "      <td>1.00000</td>\n",
              "      <td>1.000000</td>\n",
              "      <td>100193.915000</td>\n",
              "      <td>0.000000</td>\n",
              "    </tr>\n",
              "    <tr>\n",
              "      <th>75%</th>\n",
              "      <td>7500.25000</td>\n",
              "      <td>1.575323e+07</td>\n",
              "      <td>718.000000</td>\n",
              "      <td>1.000000</td>\n",
              "      <td>44.000000</td>\n",
              "      <td>7.000000</td>\n",
              "      <td>127644.240000</td>\n",
              "      <td>2.000000</td>\n",
              "      <td>1.00000</td>\n",
              "      <td>1.000000</td>\n",
              "      <td>149388.247500</td>\n",
              "      <td>0.000000</td>\n",
              "    </tr>\n",
              "    <tr>\n",
              "      <th>max</th>\n",
              "      <td>10000.00000</td>\n",
              "      <td>1.581569e+07</td>\n",
              "      <td>850.000000</td>\n",
              "      <td>1.000000</td>\n",
              "      <td>92.000000</td>\n",
              "      <td>10.000000</td>\n",
              "      <td>250898.090000</td>\n",
              "      <td>4.000000</td>\n",
              "      <td>1.00000</td>\n",
              "      <td>1.000000</td>\n",
              "      <td>199992.480000</td>\n",
              "      <td>1.000000</td>\n",
              "    </tr>\n",
              "  </tbody>\n",
              "</table>\n",
              "</div>"
            ],
            "text/plain": [
              "         RowNumber    CustomerId  ...  EstimatedSalary        Exited\n",
              "count  10000.00000  1.000000e+04  ...     10000.000000  10000.000000\n",
              "mean    5000.50000  1.569094e+07  ...    100090.239881      0.203700\n",
              "std     2886.89568  7.193619e+04  ...     57510.492818      0.402769\n",
              "min        1.00000  1.556570e+07  ...        11.580000      0.000000\n",
              "25%     2500.75000  1.562853e+07  ...     51002.110000      0.000000\n",
              "50%     5000.50000  1.569074e+07  ...    100193.915000      0.000000\n",
              "75%     7500.25000  1.575323e+07  ...    149388.247500      0.000000\n",
              "max    10000.00000  1.581569e+07  ...    199992.480000      1.000000\n",
              "\n",
              "[8 rows x 12 columns]"
            ]
          },
          "metadata": {
            "tags": []
          },
          "execution_count": 4
        }
      ]
    },
    {
      "cell_type": "markdown",
      "metadata": {
        "id": "fanAutMMy-rV"
      },
      "source": [
        "# 1. Linear Regression\n",
        "\n",
        "## create logit regression model \n"
      ]
    },
    {
      "cell_type": "code",
      "metadata": {
        "id": "R3WwGpmwzAP0",
        "outputId": "99d08ba3-196e-4bc9-af42-e8a850bf3a05",
        "colab": {
          "base_uri": "https://localhost:8080/",
          "height": 1000
        }
      },
      "source": [
        "#split dataset into trainset and testset with 0.3 ratio\n",
        "X_train, X_test, y_train, y_test = train_test_split(X_initial, y_initial, test_size=0.30, random_state=2020)\n",
        "\n",
        "from imblearn.over_sampling import SMOTE\n",
        "smo = SMOTE(random_state=42)\n",
        "X_train, y_train = smo.fit_sample(X_train, y_train)\n",
        "#print(Counter(y_train))\n",
        "\n",
        "#scaling to around 0 to 1 \n",
        "scaler = preprocessing.MinMaxScaler().fit(X_train)\n",
        "scaled_X_train = scaler.transform(X_train)\n",
        "scaled_X_test = scaler.transform(X_test)\n",
        "\n",
        "linear_classifier = linear_model.LogisticRegression(random_state=2020)\n",
        "linear_classifier.fit(scaled_X_train, y_train)\n",
        "y_train_pred = linear_classifier.predict(scaled_X_train)\n",
        "y_pred = linear_classifier.predict(scaled_X_test)\n",
        "probs = linear_classifier.predict_proba(scaled_X_test)\n",
        "\n",
        "cm = confusion_matrix(y_train,y_train_pred)\n",
        "plot_confusion_matrix(cm)\n",
        "print(\"Linear Regression Trainset Accuracy: {0:.2f}%\".format(get_accuracy(y_train, y_train_pred)*100))\n",
        "\n",
        "cm = confusion_matrix(y_test,y_pred)\n",
        "plot_confusion_matrix(cm)\n",
        "score0=get_accuracy(y_test, y_pred)\n",
        "#print(\"Linear Regression Testset Accuracy: {0:.2f}%\".format(get_accuracy(y_test, y_pred)*100))\n",
        "recall0= (cm[1,1])/(cm[1,0]+cm[1,1])\n",
        "print('Logistic Regression')\n",
        "evaluation(scaled_X_test, linear_classifier, y_test)\n",
        "print(\"Recall:    %.2f%%\" % (recall0*100))\n",
        "plot_roc_curve(y_test, probs[:,1])\n",
        "\n"
      ],
      "execution_count": null,
      "outputs": [
        {
          "output_type": "stream",
          "text": [
            "/usr/local/lib/python3.6/dist-packages/sklearn/utils/deprecation.py:87: FutureWarning: Function safe_indexing is deprecated; safe_indexing is deprecated in version 0.22 and will be removed in version 0.24.\n",
            "  warnings.warn(msg, category=FutureWarning)\n"
          ],
          "name": "stderr"
        },
        {
          "output_type": "display_data",
          "data": {
            "image/png": "[encoded data removed]",
            "text/plain": [
              "<Figure size 432x288 with 2 Axes>"
            ]
          },
          "metadata": {
            "tags": [],
            "needs_background": "light"
          }
        },
        {
          "output_type": "stream",
          "text": [
            "Linear Regression Trainset Accuracy: 71.40%\n"
          ],
          "name": "stdout"
        },
        {
          "output_type": "display_data",
          "data": {
            "image/png": "[encoded data removed]",
            "text/plain": [
              "<Figure size 432x288 with 2 Axes>"
            ]
          },
          "metadata": {
            "tags": [],
            "needs_background": "light"
          }
        },
        {
          "output_type": "stream",
          "text": [
            "Logistic Regression\n",
            "Classification Report\n",
            "              precision    recall  f1-score   support\n",
            "\n",
            "           0       0.90      0.70      0.79      2397\n",
            "           1       0.37      0.70      0.49       603\n",
            "\n",
            "    accuracy                           0.70      3000\n",
            "   macro avg       0.64      0.70      0.64      3000\n",
            "weighted avg       0.80      0.70      0.73      3000\n",
            "\n",
            "Accuracy:  70.37 %\n",
            "Recall:    69.98%\n",
            "Logistic: ROC AUC: 0.770\n"
          ],
          "name": "stdout"
        },
        {
          "output_type": "display_data",
          "data": {
            "image/png": "[encoded data removed]",
            "text/plain": [
              "<Figure size 432x288 with 1 Axes>"
            ]
          },
          "metadata": {
            "tags": [],
            "needs_background": "light"
          }
        }
      ]
    },
    {
      "cell_type": "code",
      "metadata": {
        "scrolled": true,
        "id": "qNoIm5bemuU2",
        "outputId": "26840dd9-4d15-4e4c-c3d8-d6f23b91fa12",
        "colab": {
          "base_uri": "https://localhost:8080/",
          "height": 487
        }
      },
      "source": [
        "import statsmodels.api as sm\n",
        "from scipy import stats\n",
        "import statsmodels.formula.api as smf\n",
        "import statsmodels.api as sm\n",
        " \n",
        "logitfit = sm.Logit(y_train,sm.add_constant(scaled_X_train)).fit()\n",
        " \n",
        "print(logitfit.summary())"
      ],
      "execution_count": null,
      "outputs": [
        {
          "output_type": "stream",
          "text": [
            "Optimization terminated successfully.\n",
            "         Current function value: 0.565856\n",
            "         Iterations 6\n",
            "                           Logit Regression Results                           \n",
            "==============================================================================\n",
            "Dep. Variable:                      y   No. Observations:                11132\n",
            "Model:                          Logit   Df Residuals:                    11120\n",
            "Method:                           MLE   Df Model:                           11\n",
            "Date:                Sat, 03 Oct 2020   Pseudo R-squ.:                  0.1836\n",
            "Time:                        12:26:37   Log-Likelihood:                -6299.1\n",
            "converged:                       True   LL-Null:                       -7716.1\n",
            "Covariance Type:            nonrobust   LLR p-value:                     0.000\n",
            "==============================================================================\n",
            "                 coef    std err          z      P>|z|      [0.025      0.975]\n",
            "------------------------------------------------------------------------------\n",
            "const         -1.1455      0.124     -9.224      0.000      -1.389      -0.902\n",
            "x1            -0.6507      0.118     -5.515      0.000      -0.882      -0.419\n",
            "x2            -0.5741      0.047    -12.338      0.000      -0.665      -0.483\n",
            "x3             6.5784      0.183     35.921      0.000       6.219       6.937\n",
            "x4            -0.2087      0.080     -2.615      0.009      -0.365      -0.052\n",
            "x5             0.6030      0.099      6.107      0.000       0.409       0.797\n",
            "x6            -0.3956      0.108     -3.674      0.000      -0.607      -0.185\n",
            "x7            -0.0561      0.051     -1.098      0.272      -0.156       0.044\n",
            "x8            -1.1247      0.048    -23.662      0.000      -1.218      -1.032\n",
            "x9             0.1296      0.076      1.702      0.089      -0.020       0.279\n",
            "x10            0.8174      0.059     13.852      0.000       0.702       0.933\n",
            "x11           -0.0113      0.058     -0.195      0.845      -0.125       0.103\n",
            "==============================================================================\n"
          ],
          "name": "stdout"
        }
      ]
    },
    {
      "cell_type": "markdown",
      "metadata": {
        "id": "mQeHQ_cMqCsY"
      },
      "source": [
        "## Improve regression - Selecting statistically significant features"
      ]
    },
    {
      "cell_type": "code",
      "metadata": {
        "id": "zV5wUPnpmuU6",
        "outputId": "b6acc6f8-c155-4d9a-afef-9dbbf3b85cc8",
        "colab": {
          "base_uri": "https://localhost:8080/",
          "height": 1000
        }
      },
      "source": [
        "X_reduced=X_initial.iloc[:,[0,1,2,3,4,5,7,9]]\n",
        "X_train, X_test, y_train, y_test = train_test_split(X_reduced, y_initial, test_size=0.30, random_state=2020)\n",
        "\n",
        "from imblearn.over_sampling import SMOTE\n",
        "smo = SMOTE(random_state=42)\n",
        "X_train, y_train = smo.fit_sample(X_train, y_train)\n",
        "\n",
        "scaler = preprocessing.MinMaxScaler().fit(X_train)\n",
        "scaled_X_train = scaler.transform(X_train)\n",
        "scaled_X_test = scaler.transform(X_test)\n",
        " \n",
        "\n",
        "linear_classifier = linear_model.LogisticRegression(random_state=2020)\n",
        "linear_classifier.fit(scaled_X_train, y_train)\n",
        "y_train_pred = linear_classifier.predict(scaled_X_train)\n",
        "y_pred = linear_classifier.predict(scaled_X_test)\n",
        "probs = linear_classifier.predict_proba(scaled_X_test)\n",
        "\n",
        "cm = confusion_matrix(y_train,y_train_pred)\n",
        "plot_confusion_matrix(cm)\n",
        "print(\"Improved Linear Regression Trainset Accuracy: {0:.2f}%\".format(get_accuracy(y_train, y_train_pred)*100))\n",
        "\n",
        "cm = confusion_matrix(y_test,y_pred)\n",
        "plot_confusion_matrix(cm)\n",
        "score1=get_accuracy(y_test, y_pred)\n",
        "#print(\"Linear Regression Testset Accuracy: {0:.2f}%\".format(get_accuracy(y_test, y_pred)*100))\n",
        "recall1= (cm[1,1])/(cm[1,0]+cm[1,1])\n",
        "auc1 = roc_auc_score(y_test, probs[:,1])\n",
        "print('Logistic Regression')\n",
        "evaluation(scaled_X_test, linear_classifier, y_test)\n",
        "print(\"Recall:    %.2f%%\" % (recall1*100))\n",
        "plot_roc_curve(y_test, probs[:,1])"
      ],
      "execution_count": 20,
      "outputs": [
        {
          "output_type": "stream",
          "text": [
            "/usr/local/lib/python3.6/dist-packages/sklearn/utils/deprecation.py:87: FutureWarning: Function safe_indexing is deprecated; safe_indexing is deprecated in version 0.22 and will be removed in version 0.24.\n",
            "  warnings.warn(msg, category=FutureWarning)\n"
          ],
          "name": "stderr"
        },
        {
          "output_type": "display_data",
          "data": {
            "image/png": "[encoded data removed]",
            "text/plain": [
              "<Figure size 432x288 with 2 Axes>"
            ]
          },
          "metadata": {
            "tags": [],
            "needs_background": "light"
          }
        },
        {
          "output_type": "stream",
          "text": [
            "Improved Linear Regression Trainset Accuracy: 71.70%\n"
          ],
          "name": "stdout"
        },
        {
          "output_type": "display_data",
          "data": {
            "image/png": "[encoded data removed]",
            "text/plain": [
              "<Figure size 432x288 with 2 Axes>"
            ]
          },
          "metadata": {
            "tags": [],
            "needs_background": "light"
          }
        },
        {
          "output_type": "stream",
          "text": [
            "Logistic Regression\n",
            "Classification Report\n",
            "              precision    recall  f1-score   support\n",
            "\n",
            "           0       0.90      0.71      0.79      2397\n",
            "           1       0.38      0.70      0.49       603\n",
            "\n",
            "    accuracy                           0.71      3000\n",
            "   macro avg       0.64      0.70      0.64      3000\n",
            "weighted avg       0.80      0.71      0.73      3000\n",
            "\n",
            "Accuracy:  70.63 %\n",
            "Recall:    69.65%\n",
            "Logistic: ROC AUC: 0.770\n"
          ],
          "name": "stdout"
        },
        {
          "output_type": "display_data",
          "data": {
            "image/png": "[encoded data removed]",
            "text/plain": [
              "<Figure size 432x288 with 1 Axes>"
            ]
          },
          "metadata": {
            "tags": [],
            "needs_background": "light"
          }
        }
      ]
    },
    {
      "cell_type": "code",
      "metadata": {
        "scrolled": true,
        "id": "lb_ssdikmuU-",
        "outputId": "ed3c6b91-dd9f-44be-aed9-32dd1d7aa410",
        "colab": {
          "base_uri": "https://localhost:8080/",
          "height": 437
        }
      },
      "source": [
        "import statsmodels.api as sm\n",
        "from scipy import stats\n",
        "import statsmodels.formula.api as smf\n",
        "import statsmodels.api as sm\n",
        " \n",
        "logitfit = sm.Logit(y_train,sm.add_constant(scaled_X_train)).fit()\n",
        " \n",
        "print(logitfit.summary())"
      ],
      "execution_count": null,
      "outputs": [
        {
          "output_type": "stream",
          "text": [
            "Optimization terminated successfully.\n",
            "         Current function value: 0.562992\n",
            "         Iterations 6\n",
            "                           Logit Regression Results                           \n",
            "==============================================================================\n",
            "Dep. Variable:                      y   No. Observations:                11132\n",
            "Model:                          Logit   Df Residuals:                    11123\n",
            "Method:                           MLE   Df Model:                            8\n",
            "Date:                Sat, 03 Oct 2020   Pseudo R-squ.:                  0.1878\n",
            "Time:                        12:30:32   Log-Likelihood:                -6267.2\n",
            "converged:                       True   LL-Null:                       -7716.1\n",
            "Covariance Type:            nonrobust   LLR p-value:                     0.000\n",
            "==============================================================================\n",
            "                 coef    std err          z      P>|z|      [0.025      0.975]\n",
            "------------------------------------------------------------------------------\n",
            "const         -1.1755      0.108    -10.897      0.000      -1.387      -0.964\n",
            "x1            -0.5832      0.115     -5.069      0.000      -0.809      -0.358\n",
            "x2            -0.6282      0.047    -13.487      0.000      -0.720      -0.537\n",
            "x3             6.6255      0.182     36.312      0.000       6.268       6.983\n",
            "x4            -0.1764      0.080     -2.206      0.027      -0.333      -0.020\n",
            "x5             0.6262      0.099      6.314      0.000       0.432       0.821\n",
            "x6            -0.3503      0.108     -3.247      0.001      -0.562      -0.139\n",
            "x7            -1.1357      0.048    -23.840      0.000      -1.229      -1.042\n",
            "x8             0.7690      0.056     13.758      0.000       0.659       0.879\n",
            "==============================================================================\n"
          ],
          "name": "stdout"
        }
      ]
    },
    {
      "cell_type": "markdown",
      "metadata": {
        "id": "PzPi60yOuNqZ"
      },
      "source": [
        "# 2. Decision Tree\n"
      ]
    },
    {
      "cell_type": "code",
      "metadata": {
        "id": "lqtqSDaduMEM",
        "outputId": "922d2c32-13ef-4c77-d944-21bc05cdb30c",
        "colab": {
          "base_uri": "https://localhost:8080/",
          "height": 1000
        }
      },
      "source": [
        "X_reduced1=X_initial.iloc[:,[1,2,5,7,9]]\n",
        "X_train, X_test, y_train, y_test = train_test_split(X_reduced1, y_initial, test_size=0.30, random_state=2020)\n",
        "\n",
        "from imblearn.over_sampling import SMOTE\n",
        "smo = SMOTE(random_state=42)\n",
        "X_train, y_train = smo.fit_sample(X_train, y_train)\n",
        "\n",
        "scaler = preprocessing.MinMaxScaler().fit(X_train)\n",
        "scaled_X_train = scaler.transform(X_train)\n",
        "scaled_X_test = scaler.transform(X_test)\n",
        "\n",
        "estimator = tree.DecisionTreeClassifier(ccp_alpha=0.00042182637729348246)\n",
        "estimator = estimator.fit(scaled_X_train, y_train)\n",
        "y_train_pred= estimator.predict(scaled_X_train)\n",
        "y_pred = estimator.predict(scaled_X_test)\n",
        "\n",
        "cm_train= confusion_matrix(y_train,y_train_pred)\n",
        "plot_confusion_matrix(cm_train)\n",
        "print(\"Train_Accuracy: {0:.2f}%\".format(get_accuracy(y_train, y_train_pred)*100))\n",
        "\n",
        "probs = estimator.predict_proba(scaled_X_test)\n",
        "cm = confusion_matrix(y_test,y_pred)\n",
        "plot_confusion_matrix(cm)\n",
        "score2=get_accuracy(y_test, y_pred)\n",
        "#print(\"Linear Regression Testset Accuracy: {0:.2f}%\".format(get_accuracy(y_test, y_pred)*100))\n",
        "recall2= (cm[1,1])/(cm[1,0]+cm[1,1])\n",
        "auc2 = roc_auc_score(y_test, probs[:,1])\n",
        "print('Logistic Regression')\n",
        "evaluation(scaled_X_test, estimator, y_test)\n",
        "print(\"Recall:    %.2f%%\" % (recall2*100))\n",
        "plot_roc_curve(y_test, probs[:,1])\n",
        "\n",
        "\n",
        "n_nodes = estimator.tree_.node_count\n",
        "children_left = estimator.tree_.children_left \n",
        "\n",
        "children_right = estimator.tree_.children_right\n",
        "feature = estimator.tree_.feature   \n",
        "threshold = estimator.tree_.threshold \n"
      ],
      "execution_count": 85,
      "outputs": [
        {
          "output_type": "stream",
          "text": [
            "/usr/local/lib/python3.6/dist-packages/sklearn/utils/deprecation.py:87: FutureWarning: Function safe_indexing is deprecated; safe_indexing is deprecated in version 0.22 and will be removed in version 0.24.\n",
            "  warnings.warn(msg, category=FutureWarning)\n"
          ],
          "name": "stderr"
        },
        {
          "output_type": "display_data",
          "data": {
            "image/png": "[encoded data removed]",
            "text/plain": [
              "<Figure size 432x288 with 2 Axes>"
            ]
          },
          "metadata": {
            "tags": [],
            "needs_background": "light"
          }
        },
        {
          "output_type": "stream",
          "text": [
            "Train_Accuracy: 79.08%\n"
          ],
          "name": "stdout"
        },
        {
          "output_type": "display_data",
          "data": {
            "image/png": "[encoded data removed]",
            "text/plain": [
              "<Figure size 432x288 with 2 Axes>"
            ]
          },
          "metadata": {
            "tags": [],
            "needs_background": "light"
          }
        },
        {
          "output_type": "stream",
          "text": [
            "Logistic Regression\n",
            "Classification Report\n",
            "              precision    recall  f1-score   support\n",
            "\n",
            "           0       0.92      0.77      0.84      2397\n",
            "           1       0.45      0.75      0.56       603\n",
            "\n",
            "    accuracy                           0.77      3000\n",
            "   macro avg       0.69      0.76      0.70      3000\n",
            "weighted avg       0.83      0.77      0.78      3000\n",
            "\n",
            "Accuracy:  76.53 %\n",
            "Recall:    74.96%\n",
            "Logistic: ROC AUC: 0.831\n"
          ],
          "name": "stdout"
        },
        {
          "output_type": "display_data",
          "data": {
            "image/png": "[encoded data removed]",
            "text/plain": [
              "<Figure size 432x288 with 1 Axes>"
            ]
          },
          "metadata": {
            "tags": [],
            "needs_background": "light"
          }
        }
      ]
    },
    {
      "cell_type": "code",
      "metadata": {
        "id": "dYGAKztEmuVO",
        "outputId": "a5761546-46c7-48e7-cb20-1b3cedaf4f30",
        "colab": {
          "base_uri": "https://localhost:8080/",
          "height": 1000
        }
      },
      "source": [
        "tree.plot_tree(estimator)"
      ],
      "execution_count": null,
      "outputs": [
        {
          "output_type": "execute_result",
          "data": {
            "text/plain": [
              "[Text(166.70250000000001, 208.38, 'X[7] <= 1.0\\ngini = 0.264\\nsamples = 35566\\nvalue = [5566, 30000]'),\n",
              " Text(98.3475, 190.26, 'X[2] <= 0.257\\ngini = 0.16\\nsamples = 28403\\nvalue = [2483, 25920]'),\n",
              " Text(73.935, 172.14, 'X[7] <= 0.0\\ngini = 0.386\\nsamples = 5864\\nvalue = [1531, 4333]'),\n",
              " Text(68.355, 154.01999999999998, 'X[5] <= 0.333\\ngini = 0.483\\nsamples = 3753\\nvalue = [1531, 2222]'),\n",
              " Text(53.01, 135.89999999999998, 'X[5] <= 0.0\\ngini = 0.396\\nsamples = 2483\\nvalue = [675, 1808]'),\n",
              " Text(47.43, 117.77999999999999, 'X[1] <= 1.0\\ngini = 0.47\\nsamples = 1791\\nvalue = [675, 1116]'),\n",
              " Text(33.480000000000004, 99.66, 'X[1] <= 0.0\\ngini = 0.37\\nsamples = 1111\\nvalue = [272, 839]'),\n",
              " Text(27.9, 81.53999999999999, 'X[4] <= 0.692\\ngini = 0.498\\nsamples = 584\\nvalue = [272, 312]'),\n",
              " Text(22.32, 63.41999999999999, 'X[9] <= 0.001\\ngini = 0.5\\nsamples = 523\\nvalue = [265, 258]'),\n",
              " Text(11.16, 45.29999999999998, 'X[4] <= 0.246\\ngini = 0.472\\nsamples = 324\\nvalue = [200, 124]'),\n",
              " Text(5.58, 27.17999999999998, 'gini = 0.443\\nsamples = 145\\nvalue = [48, 97]'),\n",
              " Text(16.740000000000002, 27.17999999999998, 'gini = 0.256\\nsamples = 179\\nvalue = [152, 27]'),\n",
              " Text(33.480000000000004, 45.29999999999998, 'X[9] <= 0.99\\ngini = 0.44\\nsamples = 199\\nvalue = [65, 134]'),\n",
              " Text(27.9, 27.17999999999998, 'gini = 0.0\\nsamples = 70\\nvalue = [0, 70]'),\n",
              " Text(39.06, 27.17999999999998, 'gini = 0.5\\nsamples = 129\\nvalue = [65, 64]'),\n",
              " Text(33.480000000000004, 63.41999999999999, 'gini = 0.203\\nsamples = 61\\nvalue = [7, 54]'),\n",
              " Text(39.06, 81.53999999999999, 'gini = 0.0\\nsamples = 527\\nvalue = [0, 527]'),\n",
              " Text(61.38, 99.66, 'X[9] <= 0.003\\ngini = 0.483\\nsamples = 680\\nvalue = [403, 277]'),\n",
              " Text(50.22, 81.53999999999999, 'X[4] <= 0.329\\ngini = 0.413\\nsamples = 464\\nvalue = [329, 135]'),\n",
              " Text(44.64, 63.41999999999999, 'gini = 0.499\\nsamples = 165\\nvalue = [78, 87]'),\n",
              " Text(55.8, 63.41999999999999, 'gini = 0.27\\nsamples = 299\\nvalue = [251, 48]'),\n",
              " Text(72.54, 81.53999999999999, 'X[9] <= 0.995\\ngini = 0.45\\nsamples = 216\\nvalue = [74, 142]'),\n",
              " Text(66.96000000000001, 63.41999999999999, 'gini = 0.0\\nsamples = 106\\nvalue = [0, 106]'),\n",
              " Text(78.12, 63.41999999999999, 'gini = 0.44\\nsamples = 110\\nvalue = [74, 36]'),\n",
              " Text(58.59, 117.77999999999999, 'gini = 0.0\\nsamples = 692\\nvalue = [0, 692]'),\n",
              " Text(83.7, 135.89999999999998, 'X[5] <= 0.333\\ngini = 0.439\\nsamples = 1270\\nvalue = [856, 414]'),\n",
              " Text(78.12, 117.77999999999999, 'X[2] <= 0.231\\ngini = 0.186\\nsamples = 946\\nvalue = [848, 98]'),\n",
              " Text(72.54, 99.66, 'gini = 0.103\\nsamples = 736\\nvalue = [696, 40]'),\n",
              " Text(83.7, 99.66, 'gini = 0.4\\nsamples = 210\\nvalue = [152, 58]'),\n",
              " Text(89.28, 117.77999999999999, 'gini = 0.048\\nsamples = 324\\nvalue = [8, 316]'),\n",
              " Text(79.515, 154.01999999999998, 'gini = 0.0\\nsamples = 2111\\nvalue = [0, 2111]'),\n",
              " Text(122.76, 172.14, 'X[7] <= 0.0\\ngini = 0.081\\nsamples = 22539\\nvalue = [952, 21587]'),\n",
              " Text(117.18, 154.01999999999998, 'X[5] <= 0.333\\ngini = 0.154\\nsamples = 11350\\nvalue = [952, 10398]'),\n",
              " Text(106.02, 135.89999999999998, 'X[2] <= 0.311\\ngini = 0.091\\nsamples = 8755\\nvalue = [420, 8335]'),\n",
              " Text(100.44, 117.77999999999999, 'X[2] <= 0.311\\ngini = 0.226\\nsamples = 1696\\nvalue = [220, 1476]'),\n",
              " Text(94.86, 99.66, 'X[6] <= 0.002\\ngini = 0.195\\nsamples = 1628\\nvalue = [178, 1450]'),\n",
              " Text(89.28, 81.53999999999999, 'gini = 0.479\\nsamples = 146\\nvalue = [58, 88]'),\n",
              " Text(100.44, 81.53999999999999, 'gini = 0.149\\nsamples = 1482\\nvalue = [120, 1362]'),\n",
              " Text(106.02, 99.66, 'gini = 0.472\\nsamples = 68\\nvalue = [42, 26]'),\n",
              " Text(111.6, 117.77999999999999, 'gini = 0.055\\nsamples = 7059\\nvalue = [200, 6859]'),\n",
              " Text(128.34, 135.89999999999998, 'X[5] <= 0.333\\ngini = 0.326\\nsamples = 2595\\nvalue = [532, 2063]'),\n",
              " Text(122.76, 117.77999999999999, 'X[2] <= 0.392\\ngini = 0.49\\nsamples = 925\\nvalue = [528, 397]'),\n",
              " Text(117.18, 99.66, 'X[1] <= 0.992\\ngini = 0.426\\nsamples = 687\\nvalue = [476, 211]'),\n",
              " Text(111.6, 81.53999999999999, 'X[1] <= 0.005\\ngini = 0.491\\nsamples = 382\\nvalue = [217, 165]'),\n",
              " Text(106.02, 63.41999999999999, 'gini = 0.398\\nsamples = 299\\nvalue = [217, 82]'),\n",
              " Text(117.18, 63.41999999999999, 'gini = 0.0\\nsamples = 83\\nvalue = [0, 83]'),\n",
              " Text(122.76, 81.53999999999999, 'gini = 0.256\\nsamples = 305\\nvalue = [259, 46]'),\n",
              " Text(128.34, 99.66, 'gini = 0.342\\nsamples = 238\\nvalue = [52, 186]'),\n",
              " Text(133.92000000000002, 117.77999999999999, 'gini = 0.005\\nsamples = 1670\\nvalue = [4, 1666]'),\n",
              " Text(128.34, 154.01999999999998, 'gini = 0.0\\nsamples = 11189\\nvalue = [0, 11189]'),\n",
              " Text(235.0575, 190.26, 'X[2] <= 0.27\\ngini = 0.49\\nsamples = 7163\\nvalue = [3083, 4080]'),\n",
              " Text(196.695, 172.14, 'X[5] <= 0.333\\ngini = 0.445\\nsamples = 2736\\nvalue = [1821, 915]'),\n",
              " Text(170.19, 154.01999999999998, 'X[5] <= 0.001\\ngini = 0.497\\nsamples = 1550\\nvalue = [830, 720]'),\n",
              " Text(164.61, 135.89999999999998, 'X[9] <= 0.017\\ngini = 0.437\\nsamples = 1225\\nvalue = [830, 395]'),\n",
              " Text(150.66, 117.77999999999999, 'X[4] <= 0.23\\ngini = 0.331\\nsamples = 807\\nvalue = [638, 169]'),\n",
              " Text(139.5, 99.66, 'X[0] <= 0.641\\ngini = 0.483\\nsamples = 228\\nvalue = [135, 93]'),\n",
              " Text(133.92000000000002, 81.53999999999999, 'gini = 0.499\\nsamples = 170\\nvalue = [81, 89]'),\n",
              " Text(145.08, 81.53999999999999, 'gini = 0.128\\nsamples = 58\\nvalue = [54, 4]'),\n",
              " Text(161.82, 99.66, 'X[4] <= 0.716\\ngini = 0.228\\nsamples = 579\\nvalue = [503, 76]'),\n",
              " Text(156.24, 81.53999999999999, 'X[1] <= 0.967\\ngini = 0.166\\nsamples = 546\\nvalue = [496, 50]'),\n",
              " Text(150.66, 63.41999999999999, 'X[1] <= 0.021\\ngini = 0.269\\nsamples = 244\\nvalue = [205, 39]'),\n",
              " Text(145.08, 45.29999999999998, 'gini = 0.134\\nsamples = 221\\nvalue = [205, 16]'),\n",
              " Text(156.24, 45.29999999999998, 'gini = 0.0\\nsamples = 23\\nvalue = [0, 23]'),\n",
              " Text(161.82, 63.41999999999999, 'gini = 0.07\\nsamples = 302\\nvalue = [291, 11]'),\n",
              " Text(167.4, 81.53999999999999, 'gini = 0.334\\nsamples = 33\\nvalue = [7, 26]'),\n",
              " Text(178.56, 117.77999999999999, 'X[9] <= 0.999\\ngini = 0.497\\nsamples = 418\\nvalue = [192, 226]'),\n",
              " Text(172.98, 99.66, 'gini = 0.0\\nsamples = 96\\nvalue = [0, 96]'),\n",
              " Text(184.14000000000001, 99.66, 'X[2] <= 0.19\\ngini = 0.481\\nsamples = 322\\nvalue = [192, 130]'),\n",
              " Text(178.56, 81.53999999999999, 'gini = 0.276\\nsamples = 133\\nvalue = [111, 22]'),\n",
              " Text(189.72, 81.53999999999999, 'gini = 0.49\\nsamples = 189\\nvalue = [81, 108]'),\n",
              " Text(175.77, 135.89999999999998, 'gini = 0.0\\nsamples = 325\\nvalue = [0, 325]'),\n",
              " Text(223.2, 154.01999999999998, 'X[5] <= 0.335\\ngini = 0.275\\nsamples = 1186\\nvalue = [991, 195]'),\n",
              " Text(217.62, 135.89999999999998, 'X[4] <= 0.725\\ngini = 0.12\\nsamples = 1043\\nvalue = [976, 67]'),\n",
              " Text(212.04, 117.77999999999999, 'X[1] <= 0.99\\ngini = 0.103\\nsamples = 1025\\nvalue = [969, 56]'),\n",
              " Text(206.46, 99.66, 'X[1] <= 0.016\\ngini = 0.183\\nsamples = 461\\nvalue = [414, 47]'),\n",
              " Text(200.88, 81.53999999999999, 'gini = 0.1\\nsamples = 437\\nvalue = [414, 23]'),\n",
              " Text(212.04, 81.53999999999999, 'gini = 0.0\\nsamples = 24\\nvalue = [0, 24]'),\n",
              " Text(217.62, 99.66, 'gini = 0.031\\nsamples = 564\\nvalue = [555, 9]'),\n",
              " Text(223.2, 117.77999999999999, 'gini = 0.475\\nsamples = 18\\nvalue = [7, 11]'),\n",
              " Text(228.78, 135.89999999999998, 'gini = 0.188\\nsamples = 143\\nvalue = [15, 128]'),\n",
              " Text(273.42, 172.14, 'X[1] <= 1.0\\ngini = 0.408\\nsamples = 4427\\nvalue = [1262, 3165]'),\n",
              " Text(251.1, 154.01999999999998, 'X[1] <= 0.0\\ngini = 0.291\\nsamples = 2971\\nvalue = [525, 2446]'),\n",
              " Text(245.52, 135.89999999999998, 'X[10] <= 0.989\\ngini = 0.451\\nsamples = 1526\\nvalue = [525, 1001]'),\n",
              " Text(239.94, 117.77999999999999, 'X[10] <= 0.004\\ngini = 0.408\\nsamples = 1319\\nvalue = [376, 943]'),\n",
              " Text(234.36, 99.66, 'X[9] <= 0.005\\ngini = 0.448\\nsamples = 1111\\nvalue = [376, 735]'),\n",
              " Text(223.2, 81.53999999999999, 'X[5] <= 0.336\\ngini = 0.497\\nsamples = 611\\nvalue = [281, 330]'),\n",
              " Text(217.62, 63.41999999999999, 'X[5] <= 0.327\\ngini = 0.499\\nsamples = 534\\nvalue = [280, 254]'),\n",
              " Text(212.04, 45.29999999999998, 'X[2] <= 0.628\\ngini = 0.459\\nsamples = 362\\nvalue = [129, 233]'),\n",
              " Text(206.46, 27.17999999999998, 'X[4] <= 0.237\\ngini = 0.434\\nsamples = 342\\nvalue = [109, 233]'),\n",
              " Text(200.88, 9.059999999999974, 'gini = 0.277\\nsamples = 175\\nvalue = [29, 146]'),\n",
              " Text(212.04, 9.059999999999974, 'gini = 0.499\\nsamples = 167\\nvalue = [80, 87]'),\n",
              " Text(217.62, 27.17999999999998, 'gini = 0.0\\nsamples = 20\\nvalue = [20, 0]'),\n",
              " Text(223.2, 45.29999999999998, 'gini = 0.214\\nsamples = 172\\nvalue = [151, 21]'),\n",
              " Text(228.78, 63.41999999999999, 'gini = 0.026\\nsamples = 77\\nvalue = [1, 76]'),\n",
              " Text(245.52, 81.53999999999999, 'X[9] <= 0.997\\ngini = 0.308\\nsamples = 500\\nvalue = [95, 405]'),\n",
              " Text(239.94, 63.41999999999999, 'gini = 0.0\\nsamples = 154\\nvalue = [0, 154]'),\n",
              " Text(251.1, 63.41999999999999, 'gini = 0.398\\nsamples = 346\\nvalue = [95, 251]'),\n",
              " Text(245.52, 99.66, 'gini = 0.0\\nsamples = 208\\nvalue = [0, 208]'),\n",
              " Text(251.1, 117.77999999999999, 'gini = 0.403\\nsamples = 207\\nvalue = [149, 58]'),\n",
              " Text(256.68, 135.89999999999998, 'gini = 0.0\\nsamples = 1445\\nvalue = [0, 1445]'),\n",
              " Text(295.74, 154.01999999999998, 'X[9] <= 0.004\\ngini = 0.5\\nsamples = 1456\\nvalue = [737, 719]'),\n",
              " Text(284.58, 135.89999999999998, 'X[5] <= 0.356\\ngini = 0.469\\nsamples = 939\\nvalue = [586, 353]'),\n",
              " Text(279.0, 117.77999999999999, 'X[5] <= 0.332\\ngini = 0.44\\nsamples = 861\\nvalue = [580, 281]'),\n",
              " Text(273.42, 99.66, 'X[5] <= 0.0\\ngini = 0.497\\nsamples = 557\\nvalue = [300, 257]'),\n",
              " Text(267.84000000000003, 81.53999999999999, 'X[4] <= 0.151\\ngini = 0.435\\nsamples = 441\\nvalue = [300, 141]'),\n",
              " Text(262.26, 63.41999999999999, 'gini = 0.489\\nsamples = 120\\nvalue = [51, 69]'),\n",
              " Text(273.42, 63.41999999999999, 'X[4] <= 0.732\\ngini = 0.348\\nsamples = 321\\nvalue = [249, 72]'),\n",
              " Text(267.84000000000003, 45.29999999999998, 'gini = 0.272\\nsamples = 295\\nvalue = [247, 48]'),\n",
              " Text(279.0, 45.29999999999998, 'gini = 0.142\\nsamples = 26\\nvalue = [2, 24]'),\n",
              " Text(279.0, 81.53999999999999, 'gini = 0.0\\nsamples = 116\\nvalue = [0, 116]'),\n",
              " Text(284.58, 99.66, 'gini = 0.145\\nsamples = 304\\nvalue = [280, 24]'),\n",
              " Text(290.16, 117.77999999999999, 'gini = 0.142\\nsamples = 78\\nvalue = [6, 72]'),\n",
              " Text(306.9, 135.89999999999998, 'X[9] <= 0.998\\ngini = 0.414\\nsamples = 517\\nvalue = [151, 366]'),\n",
              " Text(301.32, 117.77999999999999, 'gini = 0.0\\nsamples = 145\\nvalue = [0, 145]'),\n",
              " Text(312.48, 117.77999999999999, 'X[5] <= 0.329\\ngini = 0.482\\nsamples = 372\\nvalue = [151, 221]'),\n",
              " Text(301.32, 99.66, 'X[4] <= 0.38\\ngini = 0.384\\nsamples = 243\\nvalue = [63, 180]'),\n",
              " Text(295.74, 81.53999999999999, 'gini = 0.172\\nsamples = 21\\nvalue = [19, 2]'),\n",
              " Text(306.9, 81.53999999999999, 'X[4] <= 0.553\\ngini = 0.318\\nsamples = 222\\nvalue = [44, 178]'),\n",
              " Text(301.32, 63.41999999999999, 'gini = 0.211\\nsamples = 192\\nvalue = [23, 169]'),\n",
              " Text(312.48, 63.41999999999999, 'gini = 0.42\\nsamples = 30\\nvalue = [21, 9]'),\n",
              " Text(323.64, 99.66, 'X[5] <= 0.339\\ngini = 0.434\\nsamples = 129\\nvalue = [88, 41]'),\n",
              " Text(318.06, 81.53999999999999, 'gini = 0.137\\nsamples = 95\\nvalue = [88, 7]'),\n",
              " Text(329.22, 81.53999999999999, 'gini = 0.0\\nsamples = 34\\nvalue = [0, 34]')]"
            ]
          },
          "metadata": {
            "tags": []
          },
          "execution_count": 125
        },
        {
          "output_type": "display_data",
          "data": {
            "image/png": "[encoded data removed]",
            "text/plain": [
              "<Figure size 432x288 with 1 Axes>"
            ]
          },
          "metadata": {
            "tags": [],
            "needs_background": "light"
          }
        }
      ]
    },
    {
      "cell_type": "markdown",
      "metadata": {
        "id": "2sBNOF0gmuVS"
      },
      "source": [
        "## post-pruning"
      ]
    },
    {
      "cell_type": "code",
      "metadata": {
        "scrolled": true,
        "id": "LgjzMc_smuVT",
        "outputId": "a71dd58f-642a-4e26-d340-0bb1dfcc4d48",
        "colab": {
          "base_uri": "https://localhost:8080/",
          "height": 312
        }
      },
      "source": [
        "clf=estimator\n",
        "path = clf.cost_complexity_pruning_path(scaled_X_train, y_train)\n",
        "ccp_alphas, impurities = path.ccp_alphas, path.impurities\n",
        "\n",
        "fig, ax = plt.subplots()\n",
        "ax.plot(ccp_alphas[:-1], impurities[:-1], marker='o', drawstyle=\"steps-post\")\n",
        "ax.set_xlabel(\"effective alpha\")\n",
        "ax.set_ylabel(\"total impurity of leaves\")\n",
        "ax.set_title(\"Total Impurity vs effective alpha for training set\")"
      ],
      "execution_count": null,
      "outputs": [
        {
          "output_type": "execute_result",
          "data": {
            "text/plain": [
              "Text(0.5, 1.0, 'Total Impurity vs effective alpha for training set')"
            ]
          },
          "metadata": {
            "tags": []
          },
          "execution_count": 99
        },
        {
          "output_type": "display_data",
          "data": {
            "image/png": "[encoded data removed]",
            "text/plain": [
              "<Figure size 432x288 with 1 Axes>"
            ]
          },
          "metadata": {
            "tags": [],
            "needs_background": "light"
          }
        }
      ]
    },
    {
      "cell_type": "markdown",
      "metadata": {
        "id": "ly9bsFZJmuVZ"
      },
      "source": [
        "## The relationship between alpha and accuracy for training and testing sets"
      ]
    },
    {
      "cell_type": "code",
      "metadata": {
        "id": "WmdGcje6muVa",
        "outputId": "43a849b2-c67d-42cc-a53d-b86443333921",
        "colab": {
          "base_uri": "https://localhost:8080/",
          "height": 430
        }
      },
      "source": [
        "clfs = []\n",
        "for ccp_alpha in ccp_alphas:\n",
        "    clf = tree.DecisionTreeClassifier(random_state=0, ccp_alpha=ccp_alpha)\n",
        "    clf.fit(X_train, y_train)\n",
        "    clfs.append(clf)\n",
        "print(\"Number of nodes in the last tree is: {} with ccp_alpha: {}\".format(\n",
        "      clfs[-1].tree_.node_count, ccp_alphas[-1]))\n",
        "\n",
        "\n",
        "train_scores = [clf.score(X_train, y_train) for clf in clfs]\n",
        "test_scores = [clf.score(X_test, y_test) for clf in clfs]\n",
        "\n",
        "\n",
        "fig, ax = plt.subplots()\n",
        "ax.set_xlabel(\"alpha\")\n",
        "ax.set_ylabel(\"accuracy\")\n",
        "ax.set_title(\"Accuracy vs alpha for training and testing sets\")\n",
        "ax.plot(ccp_alphas, train_scores, marker='o', label=\"train\",\n",
        "        drawstyle=\"steps-post\")\n",
        "ax.plot(ccp_alphas, test_scores, marker='o', label=\"test\",\n",
        "        drawstyle=\"steps-post\")\n",
        "ax.legend()\n",
        "plt.show()\n",
        "\n",
        "max_score=0\n",
        "for i in range(len(test_scores)):\n",
        "  if test_scores[i]>max_score:\n",
        "    max_score=test_scores[i]\n",
        "    max_index=i\n",
        "    \n",
        "print(clfs[max_index])\n",
        "print('Desicion Tree highest validation accuracy: %.2f%%' % (max(test_scores)*100))\n"
      ],
      "execution_count": null,
      "outputs": [
        {
          "output_type": "stream",
          "text": [
            "Number of nodes in the last tree is: 3 with ccp_alpha: 0.09216161772225545\n"
          ],
          "name": "stdout"
        },
        {
          "output_type": "display_data",
          "data": {
            "image/png": "[encoded data removed]",
            "text/plain": [
              "<Figure size 432x288 with 1 Axes>"
            ]
          },
          "metadata": {
            "tags": [],
            "needs_background": "light"
          }
        },
        {
          "output_type": "stream",
          "text": [
            "DecisionTreeClassifier(ccp_alpha=0.00042182637729348246, class_weight=None,\n",
            "                       criterion='gini', max_depth=None, max_features=None,\n",
            "                       max_leaf_nodes=None, min_impurity_decrease=0.0,\n",
            "                       min_impurity_split=None, min_samples_leaf=1,\n",
            "                       min_samples_split=2, min_weight_fraction_leaf=0.0,\n",
            "                       presort='deprecated', random_state=0, splitter='best')\n",
            "Desicion Tree highest validation accuracy: 85.20%\n"
          ],
          "name": "stdout"
        }
      ]
    },
    {
      "cell_type": "markdown",
      "metadata": {
        "id": "IEXyDUSshcVI"
      },
      "source": [
        "# 3. Random Forest\n"
      ]
    },
    {
      "cell_type": "code",
      "metadata": {
        "id": "9m3_HGa-hk5S",
        "outputId": "a53b708a-8a9f-4ab2-b9a4-fd21f7b79b7f",
        "colab": {
          "base_uri": "https://localhost:8080/",
          "height": 1000
        }
      },
      "source": [
        "from sklearn.ensemble import RandomForestClassifier,GradientBoostingClassifier\n",
        "\n",
        "X_reduced2=X_initial.iloc[:,[1,2,5,7,9]]\n",
        "\n",
        "X_train, X_test, y_train, y_test = train_test_split(X_reduced2, y_initial, test_size=0.30, random_state=2020)\n",
        "\n",
        "from imblearn.over_sampling import SMOTE\n",
        "smo = SMOTE(ratio={1:5950},random_state=42)\n",
        "X_train, y_train = smo.fit_sample(X_train, y_train)\n",
        "\n",
        "scaler = preprocessing.MinMaxScaler().fit(X_train)\n",
        "scaled_X_train = scaler.transform(X_train)\n",
        "scaled_X_test = scaler.transform(X_test)\n",
        "\n",
        "model3 = RandomForestClassifier(n_estimators=500, max_depth=5,random_state=0)\n",
        "model3.fit(scaled_X_train, y_train)\n",
        "y_predicted3 = model3.predict(scaled_X_test)\n",
        "\n",
        "y_pred_train3 = model3.predict(scaled_X_train)\n",
        "cm_train3 = confusion_matrix(y_train,y_pred_train3)\n",
        "print(\"Random Forest\")\n",
        "print(\"================================\")\n",
        "plot_confusion_matrix(cm_train3)\n",
        "acc_train3 = (cm_train3[0,0] + cm_train3[1,1]) / sum(sum(cm_train3))\n",
        "print(\"Random Forest TrainSet: Accurarcy %.2f%%\" % (acc_train3*100))\n",
        "print(\"================================\")\n",
        "y_pred3 = model3.predict(scaled_X_test)\n",
        "probs = model3.predict_proba(scaled_X_test)\n",
        "cm = confusion_matrix(y_test,y_pred3)\n",
        "plot_confusion_matrix(cm)\n",
        "score3=get_accuracy(y_test, y_pred3)\n",
        "#print(\"Linear Regression Testset Accuracy: {0:.2f}%\".format(get_accuracy(y_test, y_pred)*100))\n",
        "recall3= (cm[1,1])/(cm[1,0]+cm[1,1])\n",
        "auc3 = roc_auc_score(y_test, probs[:,1])\n",
        "print('Logistic Regression')\n",
        "evaluation(scaled_X_test, model3, y_test)\n",
        "print(\"Recall:    %.2f%%\" % (recall3*100))\n",
        "plot_roc_curve(y_test, probs[:,1])"
      ],
      "execution_count": 21,
      "outputs": [
        {
          "output_type": "stream",
          "text": [
            "/usr/local/lib/python3.6/dist-packages/imblearn/utils/_validation.py:257: UserWarning: After over-sampling, the number of samples (5950) in class 1 will be larger than the number of samples in the majority class (class #0 -> 5566)\n",
            "  n_samples_majority))\n",
            "/usr/local/lib/python3.6/dist-packages/sklearn/utils/deprecation.py:87: FutureWarning: Function safe_indexing is deprecated; safe_indexing is deprecated in version 0.22 and will be removed in version 0.24.\n",
            "  warnings.warn(msg, category=FutureWarning)\n"
          ],
          "name": "stderr"
        },
        {
          "output_type": "stream",
          "text": [
            "Random Forest\n",
            "================================\n"
          ],
          "name": "stdout"
        },
        {
          "output_type": "display_data",
          "data": {
            "image/png": "[encoded data removed]",
            "text/plain": [
              "<Figure size 432x288 with 2 Axes>"
            ]
          },
          "metadata": {
            "tags": [],
            "needs_background": "light"
          }
        },
        {
          "output_type": "stream",
          "text": [
            "Random Forest TrainSet: Accurarcy 78.12%\n",
            "================================\n"
          ],
          "name": "stdout"
        },
        {
          "output_type": "display_data",
          "data": {
            "image/png": "[encoded data removed]",
            "text/plain": [
              "<Figure size 432x288 with 2 Axes>"
            ]
          },
          "metadata": {
            "tags": [],
            "needs_background": "light"
          }
        },
        {
          "output_type": "stream",
          "text": [
            "Logistic Regression\n",
            "Classification Report\n",
            "              precision    recall  f1-score   support\n",
            "\n",
            "           0       0.92      0.79      0.85      2397\n",
            "           1       0.46      0.72      0.57       603\n",
            "\n",
            "    accuracy                           0.78      3000\n",
            "   macro avg       0.69      0.76      0.71      3000\n",
            "weighted avg       0.83      0.78      0.79      3000\n",
            "\n",
            "Accuracy:  77.67 %\n",
            "Recall:    72.31%\n",
            "Logistic: ROC AUC: 0.844\n"
          ],
          "name": "stdout"
        },
        {
          "output_type": "display_data",
          "data": {
            "image/png": "[encoded data removed]",
            "text/plain": [
              "<Figure size 432x288 with 1 Axes>"
            ]
          },
          "metadata": {
            "tags": [],
            "needs_background": "light"
          }
        }
      ]
    },
    {
      "cell_type": "markdown",
      "metadata": {
        "id": "brrWPEgOkHT-"
      },
      "source": [
        "# 4.XGBoost"
      ]
    },
    {
      "cell_type": "code",
      "metadata": {
        "id": "2NIA5XKOkNNq",
        "outputId": "0719bae3-8586-4100-f02d-94b2fe495726",
        "colab": {
          "base_uri": "https://localhost:8080/",
          "height": 1000
        }
      },
      "source": [
        "from sklearn.ensemble import RandomForestClassifier,GradientBoostingClassifier\n",
        "\n",
        "X_reduced3=X_initial.iloc[:,[1,2,4,5,7,9]]\n",
        "X_train, X_test, y_train, y_test = train_test_split(X_reduced3, y_initial, test_size=0.30, random_state=2020)\n",
        "\n",
        "from imblearn.over_sampling import SMOTE\n",
        "smo = SMOTE(ratio={1:25000},random_state=42)\n",
        "X_train, y_train = smo.fit_sample(X_train, y_train)\n",
        "\n",
        "scaler = preprocessing.MinMaxScaler().fit(X_train)\n",
        "scaled_X_train = scaler.transform(X_train)\n",
        "scaled_X_test = scaler.transform(X_test)\n",
        "\n",
        "model4 = GradientBoostingClassifier(random_state=0)\n",
        "model4.fit(scaled_X_train, y_train)\n",
        "y_pred_train4 = model4.predict(scaled_X_train)\n",
        "cm4_train = confusion_matrix(y_train,y_pred_train4)\n",
        "plot_confusion_matrix(cm4_train)\n",
        "acc_train4 = (cm4_train[0,0] + cm4_train[1,1]) / sum(sum(cm4_train))\n",
        "print(\"Xgboost TrainSet: Accurarcy %.2f%%\" % (acc_train4*100))\n",
        "predictions = model4.predict(scaled_X_test)\n",
        "y_pred4 = (predictions > 0.5)\n",
        "y_pred4 =y_pred4*1 #convert to 0,1 instead of True False\n",
        "cm = confusion_matrix(y_test, y_pred4)\n",
        "probs = model4.predict_proba(scaled_X_test)\n",
        "cm = confusion_matrix(y_test,y_pred4)\n",
        "plot_confusion_matrix(cm)\n",
        "score4=get_accuracy(y_test, y_pred4)\n",
        "#print(\"Linear Regression Testset Accuracy: {0:.2f}%\".format(get_accuracy(y_test, y_pred)*100))\n",
        "recall4= (cm[1,1])/(cm[1,0]+cm[1,1])\n",
        "auc4 = roc_auc_score(y_test, probs[:,1])\n",
        "print('Logistic Regression')\n",
        "evaluation(scaled_X_test, model4, y_test)\n",
        "print(\"Recall:    %.2f%%\" % (recall4*100))\n",
        "plot_roc_curve(y_test, probs[:,1])"
      ],
      "execution_count": 78,
      "outputs": [
        {
          "output_type": "stream",
          "text": [
            "/usr/local/lib/python3.6/dist-packages/imblearn/utils/_validation.py:257: UserWarning: After over-sampling, the number of samples (25000) in class 1 will be larger than the number of samples in the majority class (class #0 -> 5566)\n",
            "  n_samples_majority))\n",
            "/usr/local/lib/python3.6/dist-packages/sklearn/utils/deprecation.py:87: FutureWarning: Function safe_indexing is deprecated; safe_indexing is deprecated in version 0.22 and will be removed in version 0.24.\n",
            "  warnings.warn(msg, category=FutureWarning)\n"
          ],
          "name": "stderr"
        },
        {
          "output_type": "display_data",
          "data": {
            "image/png": "[encoded data removed]",
            "text/plain": [
              "<Figure size 432x288 with 2 Axes>"
            ]
          },
          "metadata": {
            "tags": [],
            "needs_background": "light"
          }
        },
        {
          "output_type": "stream",
          "text": [
            "Xgboost TrainSet: Accurarcy 94.53%\n"
          ],
          "name": "stdout"
        },
        {
          "output_type": "display_data",
          "data": {
            "image/png": "[encoded data removed]",
            "text/plain": [
              "<Figure size 432x288 with 2 Axes>"
            ]
          },
          "metadata": {
            "tags": [],
            "needs_background": "light"
          }
        },
        {
          "output_type": "stream",
          "text": [
            "Logistic Regression\n",
            "Classification Report\n",
            "              precision    recall  f1-score   support\n",
            "\n",
            "           0       0.92      0.82      0.87      2397\n",
            "           1       0.51      0.72      0.60       603\n",
            "\n",
            "    accuracy                           0.80      3000\n",
            "   macro avg       0.72      0.77      0.73      3000\n",
            "weighted avg       0.84      0.80      0.82      3000\n",
            "\n",
            "Accuracy:  80.4 %\n",
            "Recall:    72.14%\n",
            "Logistic: ROC AUC: 0.859\n"
          ],
          "name": "stdout"
        },
        {
          "output_type": "display_data",
          "data": {
            "image/png": "[encoded data removed]",
            "text/plain": [
              "<Figure size 432x288 with 1 Axes>"
            ]
          },
          "metadata": {
            "tags": [],
            "needs_background": "light"
          }
        }
      ]
    },
    {
      "cell_type": "markdown",
      "metadata": {
        "id": "lXK5N0A_vQi1"
      },
      "source": [
        "# 5. Neural Network"
      ]
    },
    {
      "cell_type": "code",
      "metadata": {
        "id": "1TLCrXwhELHq",
        "outputId": "e705f7f8-55c9-402f-89e8-aa82015b1ff0",
        "colab": {
          "base_uri": "https://localhost:8080/",
          "height": 1000
        }
      },
      "source": [
        "import tensorflow\n",
        "from keras import backend as K\n",
        "from keras.models import Input, Model\n",
        "from keras.layers import Dense, Dropout\n",
        "\n",
        "X_train, X_test, y_train, y_test = train_test_split(X_initial, y_initial, test_size=0.20, random_state=2020)\n",
        "\n",
        "from imblearn.over_sampling import SMOTE\n",
        "smo = SMOTE(ratio={1:18000},random_state=42)\n",
        "X_train, y_train = smo.fit_sample(X_train, y_train)\n",
        "\n",
        "scaler = preprocessing.MinMaxScaler().fit(X_train)\n",
        "scaled_X_train = scaler.transform(X_train)\n",
        "scaled_X_test = scaler.transform(X_test)\n",
        "\n",
        "def get_model(input_dim):\n",
        "    i = Input(shape=(input_dim,))\n",
        "    x = Dense(216, activation='relu')(i)\n",
        "    x = Dropout(0.2)(x)\n",
        "    x = Dense(216, activation='sigmoid')(i)\n",
        "    x = Dropout(0.2)(x)\n",
        "    x = Dense(1, activation='relu')(x)\n",
        "    model = Model(inputs=[i], outputs=[x])\n",
        "    model.compile(loss='binary_crossentropy',\n",
        "              optimizer='Rmsprop',\n",
        "              metrics=['accuracy'])\n",
        "    print(model.summary())\n",
        "    return model\n",
        "\n",
        "nn = get_model(11)\n",
        "nn.fit(scaled_X_train, y_train,\n",
        "        batch_size=128, epochs=300,\n",
        "        validation_split = 0.2,\n",
        "        verbose=1)"
      ],
      "execution_count": 55,
      "outputs": [
        {
          "output_type": "stream",
          "text": [
            "/usr/local/lib/python3.6/dist-packages/imblearn/utils/_validation.py:257: UserWarning: After over-sampling, the number of samples (18000) in class 1 will be larger than the number of samples in the majority class (class #0 -> 6382)\n",
            "  n_samples_majority))\n",
            "/usr/local/lib/python3.6/dist-packages/sklearn/utils/deprecation.py:87: FutureWarning: Function safe_indexing is deprecated; safe_indexing is deprecated in version 0.22 and will be removed in version 0.24.\n",
            "  warnings.warn(msg, category=FutureWarning)\n"
          ],
          "name": "stderr"
        },
        {
          "output_type": "stream",
          "text": [
            "Model: \"functional_31\"\n",
            "_________________________________________________________________\n",
            "Layer (type)                 Output Shape              Param #   \n",
            "=================================================================\n",
            "input_16 (InputLayer)        [(None, 11)]              0         \n",
            "_________________________________________________________________\n",
            "dense_46 (Dense)             (None, 216)               2592      \n",
            "_________________________________________________________________\n",
            "dropout_31 (Dropout)         (None, 216)               0         \n",
            "_________________________________________________________________\n",
            "dense_47 (Dense)             (None, 1)                 217       \n",
            "=================================================================\n",
            "Total params: 2,809\n",
            "Trainable params: 2,809\n",
            "Non-trainable params: 0\n",
            "_________________________________________________________________\n",
            "None\n",
            "Epoch 1/300\n",
            "153/153 [==============================] - 0s 3ms/step - loss: 1.8601 - accuracy: 0.5571 - val_loss: 0.4221 - val_accuracy: 0.9928\n",
            "Epoch 2/300\n",
            "153/153 [==============================] - 0s 2ms/step - loss: 1.4922 - accuracy: 0.5931 - val_loss: 0.3605 - val_accuracy: 0.9781\n",
            "Epoch 3/300\n",
            "153/153 [==============================] - 0s 2ms/step - loss: 1.3655 - accuracy: 0.6053 - val_loss: 0.4761 - val_accuracy: 0.8444\n",
            "Epoch 4/300\n",
            "153/153 [==============================] - 0s 2ms/step - loss: 1.2091 - accuracy: 0.6197 - val_loss: 0.4873 - val_accuracy: 0.8419\n",
            "Epoch 5/300\n",
            "153/153 [==============================] - 0s 2ms/step - loss: 1.0651 - accuracy: 0.6187 - val_loss: 0.6597 - val_accuracy: 0.5954\n",
            "Epoch 6/300\n",
            "153/153 [==============================] - 0s 2ms/step - loss: 0.9468 - accuracy: 0.6214 - val_loss: 0.5501 - val_accuracy: 0.7923\n",
            "Epoch 7/300\n",
            "153/153 [==============================] - 0s 2ms/step - loss: 0.8937 - accuracy: 0.6368 - val_loss: 0.3251 - val_accuracy: 0.9774\n",
            "Epoch 8/300\n",
            "153/153 [==============================] - 0s 2ms/step - loss: 0.7903 - accuracy: 0.6329 - val_loss: 0.4490 - val_accuracy: 0.8979\n",
            "Epoch 9/300\n",
            "153/153 [==============================] - 0s 2ms/step - loss: 0.7465 - accuracy: 0.6509 - val_loss: 0.4378 - val_accuracy: 0.9124\n",
            "Epoch 10/300\n",
            "153/153 [==============================] - 0s 2ms/step - loss: 0.7001 - accuracy: 0.6712 - val_loss: 0.5105 - val_accuracy: 0.8368\n",
            "Epoch 11/300\n",
            "153/153 [==============================] - 0s 2ms/step - loss: 0.6638 - accuracy: 0.6712 - val_loss: 0.2547 - val_accuracy: 0.9949\n",
            "Epoch 12/300\n",
            "153/153 [==============================] - 0s 2ms/step - loss: 0.6381 - accuracy: 0.6898 - val_loss: 0.3710 - val_accuracy: 0.9639\n",
            "Epoch 13/300\n",
            "153/153 [==============================] - 0s 2ms/step - loss: 0.6171 - accuracy: 0.7032 - val_loss: 0.4425 - val_accuracy: 0.8921\n",
            "Epoch 14/300\n",
            "153/153 [==============================] - 0s 2ms/step - loss: 0.6020 - accuracy: 0.7020 - val_loss: 0.3888 - val_accuracy: 0.9391\n",
            "Epoch 15/300\n",
            "153/153 [==============================] - 0s 2ms/step - loss: 0.5933 - accuracy: 0.7026 - val_loss: 0.2648 - val_accuracy: 0.9902\n",
            "Epoch 16/300\n",
            "153/153 [==============================] - 0s 2ms/step - loss: 0.5941 - accuracy: 0.7086 - val_loss: 0.3738 - val_accuracy: 0.9471\n",
            "Epoch 17/300\n",
            "153/153 [==============================] - 0s 2ms/step - loss: 0.5862 - accuracy: 0.7201 - val_loss: 0.2040 - val_accuracy: 0.9941\n",
            "Epoch 18/300\n",
            "153/153 [==============================] - 0s 2ms/step - loss: 0.5818 - accuracy: 0.7202 - val_loss: 0.3723 - val_accuracy: 0.9379\n",
            "Epoch 19/300\n",
            "153/153 [==============================] - 0s 2ms/step - loss: 0.5888 - accuracy: 0.7213 - val_loss: 0.2754 - val_accuracy: 0.9834\n",
            "Epoch 20/300\n",
            "153/153 [==============================] - 0s 2ms/step - loss: 0.5869 - accuracy: 0.7249 - val_loss: 0.5356 - val_accuracy: 0.7798\n",
            "Epoch 21/300\n",
            "153/153 [==============================] - 0s 2ms/step - loss: 0.5780 - accuracy: 0.7263 - val_loss: 0.6325 - val_accuracy: 0.6551\n",
            "Epoch 22/300\n",
            "153/153 [==============================] - 0s 2ms/step - loss: 0.5749 - accuracy: 0.7236 - val_loss: 0.3695 - val_accuracy: 0.9434\n",
            "Epoch 23/300\n",
            "153/153 [==============================] - 0s 2ms/step - loss: 0.5742 - accuracy: 0.7282 - val_loss: 0.3129 - val_accuracy: 0.9567\n",
            "Epoch 24/300\n",
            "153/153 [==============================] - 0s 2ms/step - loss: 0.5817 - accuracy: 0.7331 - val_loss: 0.4132 - val_accuracy: 0.8979\n",
            "Epoch 25/300\n",
            "153/153 [==============================] - 0s 2ms/step - loss: 0.5771 - accuracy: 0.7283 - val_loss: 0.4735 - val_accuracy: 0.8460\n",
            "Epoch 26/300\n",
            "153/153 [==============================] - 0s 2ms/step - loss: 0.5770 - accuracy: 0.7295 - val_loss: 0.2723 - val_accuracy: 0.9699\n",
            "Epoch 27/300\n",
            "153/153 [==============================] - 0s 2ms/step - loss: 0.5768 - accuracy: 0.7295 - val_loss: 0.3944 - val_accuracy: 0.9120\n",
            "Epoch 28/300\n",
            "153/153 [==============================] - 0s 2ms/step - loss: 0.5652 - accuracy: 0.7322 - val_loss: 0.5394 - val_accuracy: 0.7638\n",
            "Epoch 29/300\n",
            "153/153 [==============================] - 0s 2ms/step - loss: 0.5751 - accuracy: 0.7347 - val_loss: 0.2662 - val_accuracy: 0.9684\n",
            "Epoch 30/300\n",
            "153/153 [==============================] - 0s 2ms/step - loss: 0.5740 - accuracy: 0.7371 - val_loss: 0.3905 - val_accuracy: 0.9079\n",
            "Epoch 31/300\n",
            "153/153 [==============================] - 0s 2ms/step - loss: 0.5707 - accuracy: 0.7408 - val_loss: 0.2526 - val_accuracy: 0.9768\n",
            "Epoch 32/300\n",
            "153/153 [==============================] - 0s 2ms/step - loss: 0.5648 - accuracy: 0.7329 - val_loss: 0.3113 - val_accuracy: 0.9553\n",
            "Epoch 33/300\n",
            "153/153 [==============================] - 0s 2ms/step - loss: 0.5701 - accuracy: 0.7365 - val_loss: 0.3483 - val_accuracy: 0.9307\n",
            "Epoch 34/300\n",
            "153/153 [==============================] - 0s 2ms/step - loss: 0.5655 - accuracy: 0.7367 - val_loss: 0.2527 - val_accuracy: 0.9785\n",
            "Epoch 35/300\n",
            "153/153 [==============================] - 0s 2ms/step - loss: 0.5663 - accuracy: 0.7421 - val_loss: 0.3785 - val_accuracy: 0.9106\n",
            "Epoch 36/300\n",
            "153/153 [==============================] - 0s 2ms/step - loss: 0.5753 - accuracy: 0.7415 - val_loss: 0.3474 - val_accuracy: 0.9272\n",
            "Epoch 37/300\n",
            "153/153 [==============================] - 0s 2ms/step - loss: 0.5758 - accuracy: 0.7373 - val_loss: 0.2630 - val_accuracy: 0.9619\n",
            "Epoch 38/300\n",
            "153/153 [==============================] - 0s 2ms/step - loss: 0.5693 - accuracy: 0.7421 - val_loss: 0.3163 - val_accuracy: 0.9432\n",
            "Epoch 39/300\n",
            "153/153 [==============================] - 0s 2ms/step - loss: 0.5679 - accuracy: 0.7399 - val_loss: 0.3879 - val_accuracy: 0.9006\n",
            "Epoch 40/300\n",
            "153/153 [==============================] - 0s 2ms/step - loss: 0.5665 - accuracy: 0.7432 - val_loss: 0.3736 - val_accuracy: 0.9042\n",
            "Epoch 41/300\n",
            "153/153 [==============================] - 0s 2ms/step - loss: 0.5723 - accuracy: 0.7393 - val_loss: 0.2651 - val_accuracy: 0.9629\n",
            "Epoch 42/300\n",
            "153/153 [==============================] - 0s 2ms/step - loss: 0.5702 - accuracy: 0.7463 - val_loss: 0.5116 - val_accuracy: 0.7855\n",
            "Epoch 43/300\n",
            "153/153 [==============================] - 0s 2ms/step - loss: 0.5714 - accuracy: 0.7449 - val_loss: 0.3323 - val_accuracy: 0.9344\n",
            "Epoch 44/300\n",
            "153/153 [==============================] - 0s 2ms/step - loss: 0.5720 - accuracy: 0.7430 - val_loss: 0.3205 - val_accuracy: 0.9381\n",
            "Epoch 45/300\n",
            "153/153 [==============================] - 0s 2ms/step - loss: 0.5647 - accuracy: 0.7444 - val_loss: 0.2946 - val_accuracy: 0.9549\n",
            "Epoch 46/300\n",
            "153/153 [==============================] - 0s 2ms/step - loss: 0.5628 - accuracy: 0.7442 - val_loss: 0.2470 - val_accuracy: 0.9678\n",
            "Epoch 47/300\n",
            "153/153 [==============================] - 0s 2ms/step - loss: 0.5687 - accuracy: 0.7335 - val_loss: 0.3397 - val_accuracy: 0.9350\n",
            "Epoch 48/300\n",
            "153/153 [==============================] - 0s 2ms/step - loss: 0.5572 - accuracy: 0.7461 - val_loss: 0.4763 - val_accuracy: 0.8261\n",
            "Epoch 49/300\n",
            "153/153 [==============================] - 0s 2ms/step - loss: 0.5703 - accuracy: 0.7476 - val_loss: 0.2938 - val_accuracy: 0.9471\n",
            "Epoch 50/300\n",
            "153/153 [==============================] - 0s 2ms/step - loss: 0.5574 - accuracy: 0.7482 - val_loss: 0.3251 - val_accuracy: 0.9282\n",
            "Epoch 51/300\n",
            "153/153 [==============================] - 0s 2ms/step - loss: 0.5667 - accuracy: 0.7468 - val_loss: 0.3837 - val_accuracy: 0.9020\n",
            "Epoch 52/300\n",
            "153/153 [==============================] - 0s 2ms/step - loss: 0.5667 - accuracy: 0.7486 - val_loss: 0.2705 - val_accuracy: 0.9621\n",
            "Epoch 53/300\n",
            "153/153 [==============================] - 0s 2ms/step - loss: 0.5616 - accuracy: 0.7485 - val_loss: 0.3429 - val_accuracy: 0.9325\n",
            "Epoch 54/300\n",
            "153/153 [==============================] - 0s 2ms/step - loss: 0.5611 - accuracy: 0.7498 - val_loss: 0.5385 - val_accuracy: 0.7605\n",
            "Epoch 55/300\n",
            "153/153 [==============================] - 0s 2ms/step - loss: 0.5684 - accuracy: 0.7493 - val_loss: 0.3744 - val_accuracy: 0.8962\n",
            "Epoch 56/300\n",
            "153/153 [==============================] - 0s 2ms/step - loss: 0.5659 - accuracy: 0.7460 - val_loss: 0.3552 - val_accuracy: 0.9194\n",
            "Epoch 57/300\n",
            "153/153 [==============================] - 0s 2ms/step - loss: 0.5624 - accuracy: 0.7498 - val_loss: 0.4060 - val_accuracy: 0.8786\n",
            "Epoch 58/300\n",
            "153/153 [==============================] - 0s 2ms/step - loss: 0.5629 - accuracy: 0.7521 - val_loss: 0.3514 - val_accuracy: 0.9231\n",
            "Epoch 59/300\n",
            "153/153 [==============================] - 0s 2ms/step - loss: 0.5576 - accuracy: 0.7527 - val_loss: 0.3539 - val_accuracy: 0.9196\n",
            "Epoch 60/300\n",
            "153/153 [==============================] - 0s 2ms/step - loss: 0.5640 - accuracy: 0.7463 - val_loss: 0.3471 - val_accuracy: 0.9276\n",
            "Epoch 61/300\n",
            "153/153 [==============================] - 0s 2ms/step - loss: 0.5590 - accuracy: 0.7536 - val_loss: 0.3218 - val_accuracy: 0.9340\n",
            "Epoch 62/300\n",
            "153/153 [==============================] - 0s 2ms/step - loss: 0.5483 - accuracy: 0.7546 - val_loss: 0.3343 - val_accuracy: 0.9295\n",
            "Epoch 63/300\n",
            "153/153 [==============================] - 0s 2ms/step - loss: 0.5558 - accuracy: 0.7533 - val_loss: 0.3338 - val_accuracy: 0.9221\n",
            "Epoch 64/300\n",
            "153/153 [==============================] - 0s 2ms/step - loss: 0.5566 - accuracy: 0.7548 - val_loss: 0.3704 - val_accuracy: 0.8938\n",
            "Epoch 65/300\n",
            "153/153 [==============================] - 0s 2ms/step - loss: 0.5511 - accuracy: 0.7563 - val_loss: 0.3941 - val_accuracy: 0.8852\n",
            "Epoch 66/300\n",
            "153/153 [==============================] - 0s 2ms/step - loss: 0.5523 - accuracy: 0.7579 - val_loss: 0.4399 - val_accuracy: 0.8474\n",
            "Epoch 67/300\n",
            "153/153 [==============================] - 0s 2ms/step - loss: 0.5616 - accuracy: 0.7555 - val_loss: 0.3599 - val_accuracy: 0.8919\n",
            "Epoch 68/300\n",
            "153/153 [==============================] - 0s 2ms/step - loss: 0.5620 - accuracy: 0.7561 - val_loss: 0.2526 - val_accuracy: 0.9586\n",
            "Epoch 69/300\n",
            "153/153 [==============================] - 0s 2ms/step - loss: 0.5524 - accuracy: 0.7592 - val_loss: 0.3362 - val_accuracy: 0.9118\n",
            "Epoch 70/300\n",
            "153/153 [==============================] - 0s 2ms/step - loss: 0.5453 - accuracy: 0.7580 - val_loss: 0.3547 - val_accuracy: 0.9141\n",
            "Epoch 71/300\n",
            "153/153 [==============================] - 0s 2ms/step - loss: 0.5443 - accuracy: 0.7582 - val_loss: 0.3746 - val_accuracy: 0.8891\n",
            "Epoch 72/300\n",
            "153/153 [==============================] - 0s 2ms/step - loss: 0.5429 - accuracy: 0.7610 - val_loss: 0.3129 - val_accuracy: 0.9245\n",
            "Epoch 73/300\n",
            "153/153 [==============================] - 0s 2ms/step - loss: 0.5539 - accuracy: 0.7560 - val_loss: 0.3428 - val_accuracy: 0.9071\n",
            "Epoch 74/300\n",
            "153/153 [==============================] - 0s 2ms/step - loss: 0.5417 - accuracy: 0.7598 - val_loss: 0.3103 - val_accuracy: 0.9321\n",
            "Epoch 75/300\n",
            "153/153 [==============================] - 0s 2ms/step - loss: 0.5397 - accuracy: 0.7608 - val_loss: 0.3435 - val_accuracy: 0.9069\n",
            "Epoch 76/300\n",
            "153/153 [==============================] - 0s 2ms/step - loss: 0.5486 - accuracy: 0.7628 - val_loss: 0.4253 - val_accuracy: 0.8561\n",
            "Epoch 77/300\n",
            "153/153 [==============================] - 0s 2ms/step - loss: 0.5480 - accuracy: 0.7617 - val_loss: 0.3340 - val_accuracy: 0.9077\n",
            "Epoch 78/300\n",
            "153/153 [==============================] - 0s 2ms/step - loss: 0.5434 - accuracy: 0.7608 - val_loss: 0.2950 - val_accuracy: 0.9348\n",
            "Epoch 79/300\n",
            "153/153 [==============================] - 0s 2ms/step - loss: 0.5486 - accuracy: 0.7636 - val_loss: 0.4190 - val_accuracy: 0.8682\n",
            "Epoch 80/300\n",
            "153/153 [==============================] - 0s 2ms/step - loss: 0.5380 - accuracy: 0.7630 - val_loss: 0.3195 - val_accuracy: 0.9211\n",
            "Epoch 81/300\n",
            "153/153 [==============================] - 0s 2ms/step - loss: 0.5410 - accuracy: 0.7638 - val_loss: 0.4082 - val_accuracy: 0.8657\n",
            "Epoch 82/300\n",
            "153/153 [==============================] - 0s 2ms/step - loss: 0.5279 - accuracy: 0.7615 - val_loss: 0.3322 - val_accuracy: 0.9114\n",
            "Epoch 83/300\n",
            "153/153 [==============================] - 0s 2ms/step - loss: 0.5383 - accuracy: 0.7635 - val_loss: 0.4689 - val_accuracy: 0.8228\n",
            "Epoch 84/300\n",
            "153/153 [==============================] - 0s 2ms/step - loss: 0.5327 - accuracy: 0.7664 - val_loss: 0.2874 - val_accuracy: 0.9250\n",
            "Epoch 85/300\n",
            "153/153 [==============================] - 0s 2ms/step - loss: 0.5373 - accuracy: 0.7656 - val_loss: 0.3931 - val_accuracy: 0.8727\n",
            "Epoch 86/300\n",
            "153/153 [==============================] - 0s 2ms/step - loss: 0.5350 - accuracy: 0.7665 - val_loss: 0.3606 - val_accuracy: 0.8917\n",
            "Epoch 87/300\n",
            "153/153 [==============================] - 0s 2ms/step - loss: 0.5280 - accuracy: 0.7724 - val_loss: 0.5219 - val_accuracy: 0.7861\n",
            "Epoch 88/300\n",
            "153/153 [==============================] - 0s 2ms/step - loss: 0.5363 - accuracy: 0.7666 - val_loss: 0.4155 - val_accuracy: 0.8653\n",
            "Epoch 89/300\n",
            "153/153 [==============================] - 0s 2ms/step - loss: 0.5275 - accuracy: 0.7685 - val_loss: 0.3105 - val_accuracy: 0.9219\n",
            "Epoch 90/300\n",
            "153/153 [==============================] - 0s 2ms/step - loss: 0.5228 - accuracy: 0.7702 - val_loss: 0.4591 - val_accuracy: 0.8351\n",
            "Epoch 91/300\n",
            "153/153 [==============================] - 0s 2ms/step - loss: 0.5160 - accuracy: 0.7677 - val_loss: 0.2701 - val_accuracy: 0.9379\n",
            "Epoch 92/300\n",
            "153/153 [==============================] - 0s 2ms/step - loss: 0.5193 - accuracy: 0.7703 - val_loss: 0.2728 - val_accuracy: 0.9325\n",
            "Epoch 93/300\n",
            "153/153 [==============================] - 0s 2ms/step - loss: 0.5180 - accuracy: 0.7667 - val_loss: 0.3129 - val_accuracy: 0.9135\n",
            "Epoch 94/300\n",
            "153/153 [==============================] - 0s 2ms/step - loss: 0.5272 - accuracy: 0.7728 - val_loss: 0.3476 - val_accuracy: 0.8903\n",
            "Epoch 95/300\n",
            "153/153 [==============================] - 0s 2ms/step - loss: 0.5254 - accuracy: 0.7726 - val_loss: 0.2769 - val_accuracy: 0.9231\n",
            "Epoch 96/300\n",
            "153/153 [==============================] - 0s 2ms/step - loss: 0.5133 - accuracy: 0.7779 - val_loss: 0.2568 - val_accuracy: 0.9379\n",
            "Epoch 97/300\n",
            "153/153 [==============================] - 0s 2ms/step - loss: 0.5108 - accuracy: 0.7779 - val_loss: 0.1664 - val_accuracy: 0.9764\n",
            "Epoch 98/300\n",
            "153/153 [==============================] - 0s 2ms/step - loss: 0.5059 - accuracy: 0.7757 - val_loss: 0.3185 - val_accuracy: 0.9178\n",
            "Epoch 99/300\n",
            "153/153 [==============================] - 0s 2ms/step - loss: 0.5038 - accuracy: 0.7782 - val_loss: 0.3498 - val_accuracy: 0.8860\n",
            "Epoch 100/300\n",
            "153/153 [==============================] - 0s 2ms/step - loss: 0.5182 - accuracy: 0.7842 - val_loss: 0.2750 - val_accuracy: 0.9243\n",
            "Epoch 101/300\n",
            "153/153 [==============================] - 0s 2ms/step - loss: 0.5016 - accuracy: 0.7809 - val_loss: 0.2829 - val_accuracy: 0.9243\n",
            "Epoch 102/300\n",
            "153/153 [==============================] - 0s 2ms/step - loss: 0.5032 - accuracy: 0.7857 - val_loss: 0.3407 - val_accuracy: 0.8983\n",
            "Epoch 103/300\n",
            "153/153 [==============================] - 0s 2ms/step - loss: 0.5083 - accuracy: 0.7814 - val_loss: 0.3208 - val_accuracy: 0.8993\n",
            "Epoch 104/300\n",
            "153/153 [==============================] - 0s 2ms/step - loss: 0.4998 - accuracy: 0.7847 - val_loss: 0.3309 - val_accuracy: 0.8956\n",
            "Epoch 105/300\n",
            "153/153 [==============================] - 0s 2ms/step - loss: 0.4973 - accuracy: 0.7888 - val_loss: 0.2980 - val_accuracy: 0.9088\n",
            "Epoch 106/300\n",
            "153/153 [==============================] - 0s 2ms/step - loss: 0.4951 - accuracy: 0.7844 - val_loss: 0.1976 - val_accuracy: 0.9530\n",
            "Epoch 107/300\n",
            "153/153 [==============================] - 0s 2ms/step - loss: 0.4997 - accuracy: 0.7858 - val_loss: 0.3464 - val_accuracy: 0.8825\n",
            "Epoch 108/300\n",
            "153/153 [==============================] - 0s 2ms/step - loss: 0.4918 - accuracy: 0.7888 - val_loss: 0.2937 - val_accuracy: 0.9086\n",
            "Epoch 109/300\n",
            "153/153 [==============================] - 0s 2ms/step - loss: 0.4906 - accuracy: 0.7898 - val_loss: 0.3038 - val_accuracy: 0.9026\n",
            "Epoch 110/300\n",
            "153/153 [==============================] - 0s 2ms/step - loss: 0.4835 - accuracy: 0.7882 - val_loss: 0.2557 - val_accuracy: 0.9311\n",
            "Epoch 111/300\n",
            "153/153 [==============================] - 0s 2ms/step - loss: 0.4888 - accuracy: 0.7933 - val_loss: 0.1706 - val_accuracy: 0.9658\n",
            "Epoch 112/300\n",
            "153/153 [==============================] - 0s 2ms/step - loss: 0.4894 - accuracy: 0.7928 - val_loss: 0.2743 - val_accuracy: 0.9133\n",
            "Epoch 113/300\n",
            "153/153 [==============================] - 0s 2ms/step - loss: 0.4784 - accuracy: 0.7926 - val_loss: 0.2612 - val_accuracy: 0.9221\n",
            "Epoch 114/300\n",
            "153/153 [==============================] - 0s 2ms/step - loss: 0.4797 - accuracy: 0.7938 - val_loss: 0.2163 - val_accuracy: 0.9395\n",
            "Epoch 115/300\n",
            "153/153 [==============================] - 0s 2ms/step - loss: 0.4771 - accuracy: 0.7951 - val_loss: 0.3028 - val_accuracy: 0.8960\n",
            "Epoch 116/300\n",
            "153/153 [==============================] - 0s 2ms/step - loss: 0.4835 - accuracy: 0.7983 - val_loss: 0.2246 - val_accuracy: 0.9401\n",
            "Epoch 117/300\n",
            "153/153 [==============================] - 0s 2ms/step - loss: 0.4987 - accuracy: 0.7935 - val_loss: 0.1854 - val_accuracy: 0.9532\n",
            "Epoch 118/300\n",
            "153/153 [==============================] - 0s 2ms/step - loss: 0.4828 - accuracy: 0.7959 - val_loss: 0.2130 - val_accuracy: 0.9532\n",
            "Epoch 119/300\n",
            "153/153 [==============================] - 0s 2ms/step - loss: 0.4874 - accuracy: 0.7966 - val_loss: 0.2956 - val_accuracy: 0.9006\n",
            "Epoch 120/300\n",
            "153/153 [==============================] - 0s 2ms/step - loss: 0.4804 - accuracy: 0.7943 - val_loss: 0.1898 - val_accuracy: 0.9514\n",
            "Epoch 121/300\n",
            "153/153 [==============================] - 0s 2ms/step - loss: 0.4745 - accuracy: 0.7997 - val_loss: 0.1622 - val_accuracy: 0.9635\n",
            "Epoch 122/300\n",
            "153/153 [==============================] - 0s 2ms/step - loss: 0.4840 - accuracy: 0.7950 - val_loss: 0.1736 - val_accuracy: 0.9612\n",
            "Epoch 123/300\n",
            "153/153 [==============================] - 0s 2ms/step - loss: 0.4704 - accuracy: 0.7985 - val_loss: 0.2549 - val_accuracy: 0.9190\n",
            "Epoch 124/300\n",
            "153/153 [==============================] - 0s 2ms/step - loss: 0.4825 - accuracy: 0.8006 - val_loss: 0.2061 - val_accuracy: 0.9368\n",
            "Epoch 125/300\n",
            "153/153 [==============================] - 0s 2ms/step - loss: 0.4735 - accuracy: 0.7997 - val_loss: 0.2734 - val_accuracy: 0.9131\n",
            "Epoch 126/300\n",
            "153/153 [==============================] - 0s 2ms/step - loss: 0.4791 - accuracy: 0.8022 - val_loss: 0.2363 - val_accuracy: 0.9293\n",
            "Epoch 127/300\n",
            "153/153 [==============================] - 0s 2ms/step - loss: 0.4733 - accuracy: 0.8006 - val_loss: 0.2392 - val_accuracy: 0.9256\n",
            "Epoch 128/300\n",
            "153/153 [==============================] - 0s 2ms/step - loss: 0.4724 - accuracy: 0.8034 - val_loss: 0.2732 - val_accuracy: 0.9100\n",
            "Epoch 129/300\n",
            "153/153 [==============================] - 0s 2ms/step - loss: 0.4707 - accuracy: 0.8027 - val_loss: 0.2184 - val_accuracy: 0.9381\n",
            "Epoch 130/300\n",
            "153/153 [==============================] - 0s 2ms/step - loss: 0.4637 - accuracy: 0.8012 - val_loss: 0.3214 - val_accuracy: 0.8948\n",
            "Epoch 131/300\n",
            "153/153 [==============================] - 0s 2ms/step - loss: 0.4691 - accuracy: 0.8029 - val_loss: 0.2382 - val_accuracy: 0.9270\n",
            "Epoch 132/300\n",
            "153/153 [==============================] - 0s 2ms/step - loss: 0.4703 - accuracy: 0.8060 - val_loss: 0.2605 - val_accuracy: 0.9149\n",
            "Epoch 133/300\n",
            "153/153 [==============================] - 0s 2ms/step - loss: 0.4768 - accuracy: 0.8037 - val_loss: 0.2060 - val_accuracy: 0.9440\n",
            "Epoch 134/300\n",
            "153/153 [==============================] - 0s 2ms/step - loss: 0.4723 - accuracy: 0.8068 - val_loss: 0.2829 - val_accuracy: 0.9024\n",
            "Epoch 135/300\n",
            "153/153 [==============================] - 0s 2ms/step - loss: 0.4626 - accuracy: 0.8083 - val_loss: 0.2088 - val_accuracy: 0.9414\n",
            "Epoch 136/300\n",
            "153/153 [==============================] - 0s 2ms/step - loss: 0.4714 - accuracy: 0.8052 - val_loss: 0.1912 - val_accuracy: 0.9506\n",
            "Epoch 137/300\n",
            "153/153 [==============================] - 0s 2ms/step - loss: 0.4546 - accuracy: 0.8085 - val_loss: 0.3267 - val_accuracy: 0.8821\n",
            "Epoch 138/300\n",
            "153/153 [==============================] - 0s 2ms/step - loss: 0.4570 - accuracy: 0.8130 - val_loss: 0.2080 - val_accuracy: 0.9397\n",
            "Epoch 139/300\n",
            "153/153 [==============================] - 0s 2ms/step - loss: 0.4730 - accuracy: 0.8092 - val_loss: 0.2976 - val_accuracy: 0.9053\n",
            "Epoch 140/300\n",
            "153/153 [==============================] - 0s 2ms/step - loss: 0.4626 - accuracy: 0.8076 - val_loss: 0.3042 - val_accuracy: 0.8977\n",
            "Epoch 141/300\n",
            "153/153 [==============================] - 0s 2ms/step - loss: 0.4473 - accuracy: 0.8072 - val_loss: 0.2366 - val_accuracy: 0.9235\n",
            "Epoch 142/300\n",
            "153/153 [==============================] - 0s 2ms/step - loss: 0.4433 - accuracy: 0.8113 - val_loss: 0.1982 - val_accuracy: 0.9428\n",
            "Epoch 143/300\n",
            "153/153 [==============================] - 0s 2ms/step - loss: 0.4629 - accuracy: 0.8077 - val_loss: 0.1923 - val_accuracy: 0.9416\n",
            "Epoch 144/300\n",
            "153/153 [==============================] - 0s 2ms/step - loss: 0.4594 - accuracy: 0.8104 - val_loss: 0.2867 - val_accuracy: 0.9081\n",
            "Epoch 145/300\n",
            "153/153 [==============================] - 0s 2ms/step - loss: 0.4576 - accuracy: 0.8148 - val_loss: 0.1779 - val_accuracy: 0.9578\n",
            "Epoch 146/300\n",
            "153/153 [==============================] - 0s 2ms/step - loss: 0.4504 - accuracy: 0.8135 - val_loss: 0.2527 - val_accuracy: 0.9213\n",
            "Epoch 147/300\n",
            "153/153 [==============================] - 0s 2ms/step - loss: 0.4710 - accuracy: 0.8126 - val_loss: 0.2632 - val_accuracy: 0.9094\n",
            "Epoch 148/300\n",
            "153/153 [==============================] - 0s 2ms/step - loss: 0.4605 - accuracy: 0.8113 - val_loss: 0.2657 - val_accuracy: 0.9157\n",
            "Epoch 149/300\n",
            "153/153 [==============================] - 0s 2ms/step - loss: 0.4433 - accuracy: 0.8125 - val_loss: 0.2053 - val_accuracy: 0.9436\n",
            "Epoch 150/300\n",
            "153/153 [==============================] - 0s 2ms/step - loss: 0.4441 - accuracy: 0.8120 - val_loss: 0.2477 - val_accuracy: 0.9182\n",
            "Epoch 151/300\n",
            "153/153 [==============================] - 0s 2ms/step - loss: 0.4649 - accuracy: 0.8155 - val_loss: 0.2085 - val_accuracy: 0.9405\n",
            "Epoch 152/300\n",
            "153/153 [==============================] - 0s 2ms/step - loss: 0.4544 - accuracy: 0.8179 - val_loss: 0.1430 - val_accuracy: 0.9684\n",
            "Epoch 153/300\n",
            "153/153 [==============================] - 0s 2ms/step - loss: 0.4555 - accuracy: 0.8142 - val_loss: 0.1931 - val_accuracy: 0.9444\n",
            "Epoch 154/300\n",
            "153/153 [==============================] - 0s 2ms/step - loss: 0.4611 - accuracy: 0.8156 - val_loss: 0.2315 - val_accuracy: 0.9233\n",
            "Epoch 155/300\n",
            "153/153 [==============================] - 0s 2ms/step - loss: 0.4475 - accuracy: 0.8149 - val_loss: 0.2102 - val_accuracy: 0.9414\n",
            "Epoch 156/300\n",
            "153/153 [==============================] - 0s 2ms/step - loss: 0.4445 - accuracy: 0.8171 - val_loss: 0.2557 - val_accuracy: 0.9155\n",
            "Epoch 157/300\n",
            "153/153 [==============================] - 0s 2ms/step - loss: 0.4422 - accuracy: 0.8142 - val_loss: 0.2259 - val_accuracy: 0.9332\n",
            "Epoch 158/300\n",
            "153/153 [==============================] - 0s 2ms/step - loss: 0.4462 - accuracy: 0.8199 - val_loss: 0.2519 - val_accuracy: 0.9194\n",
            "Epoch 159/300\n",
            "153/153 [==============================] - 0s 2ms/step - loss: 0.4403 - accuracy: 0.8163 - val_loss: 0.1519 - val_accuracy: 0.9602\n",
            "Epoch 160/300\n",
            "153/153 [==============================] - 0s 2ms/step - loss: 0.4286 - accuracy: 0.8214 - val_loss: 0.2089 - val_accuracy: 0.9377\n",
            "Epoch 161/300\n",
            "153/153 [==============================] - 0s 2ms/step - loss: 0.4474 - accuracy: 0.8186 - val_loss: 0.2636 - val_accuracy: 0.9131\n",
            "Epoch 162/300\n",
            "153/153 [==============================] - 0s 2ms/step - loss: 0.4367 - accuracy: 0.8216 - val_loss: 0.1932 - val_accuracy: 0.9424\n",
            "Epoch 163/300\n",
            "153/153 [==============================] - 0s 2ms/step - loss: 0.4496 - accuracy: 0.8184 - val_loss: 0.2475 - val_accuracy: 0.9200\n",
            "Epoch 164/300\n",
            "153/153 [==============================] - 0s 2ms/step - loss: 0.4487 - accuracy: 0.8170 - val_loss: 0.2443 - val_accuracy: 0.9221\n",
            "Epoch 165/300\n",
            "153/153 [==============================] - 0s 2ms/step - loss: 0.4438 - accuracy: 0.8204 - val_loss: 0.2341 - val_accuracy: 0.9270\n",
            "Epoch 166/300\n",
            "153/153 [==============================] - 0s 2ms/step - loss: 0.4390 - accuracy: 0.8190 - val_loss: 0.1752 - val_accuracy: 0.9557\n",
            "Epoch 167/300\n",
            "153/153 [==============================] - 0s 2ms/step - loss: 0.4440 - accuracy: 0.8237 - val_loss: 0.1866 - val_accuracy: 0.9455\n",
            "Epoch 168/300\n",
            "153/153 [==============================] - 0s 2ms/step - loss: 0.4547 - accuracy: 0.8219 - val_loss: 0.1705 - val_accuracy: 0.9543\n",
            "Epoch 169/300\n",
            "153/153 [==============================] - 0s 2ms/step - loss: 0.4406 - accuracy: 0.8194 - val_loss: 0.2305 - val_accuracy: 0.9247\n",
            "Epoch 170/300\n",
            "153/153 [==============================] - 0s 2ms/step - loss: 0.4372 - accuracy: 0.8237 - val_loss: 0.2322 - val_accuracy: 0.9233\n",
            "Epoch 171/300\n",
            "153/153 [==============================] - 0s 2ms/step - loss: 0.4468 - accuracy: 0.8205 - val_loss: 0.2535 - val_accuracy: 0.9196\n",
            "Epoch 172/300\n",
            "153/153 [==============================] - 0s 2ms/step - loss: 0.4349 - accuracy: 0.8260 - val_loss: 0.2042 - val_accuracy: 0.9348\n",
            "Epoch 173/300\n",
            "153/153 [==============================] - 0s 2ms/step - loss: 0.4348 - accuracy: 0.8246 - val_loss: 0.1212 - val_accuracy: 0.9727\n",
            "Epoch 174/300\n",
            "153/153 [==============================] - 0s 2ms/step - loss: 0.4380 - accuracy: 0.8244 - val_loss: 0.2552 - val_accuracy: 0.9163\n",
            "Epoch 175/300\n",
            "153/153 [==============================] - 0s 2ms/step - loss: 0.4304 - accuracy: 0.8255 - val_loss: 0.2592 - val_accuracy: 0.9104\n",
            "Epoch 176/300\n",
            "153/153 [==============================] - 0s 2ms/step - loss: 0.4336 - accuracy: 0.8256 - val_loss: 0.1826 - val_accuracy: 0.9483\n",
            "Epoch 177/300\n",
            "153/153 [==============================] - 0s 2ms/step - loss: 0.4444 - accuracy: 0.8281 - val_loss: 0.1898 - val_accuracy: 0.9438\n",
            "Epoch 178/300\n",
            "153/153 [==============================] - 0s 2ms/step - loss: 0.4410 - accuracy: 0.8274 - val_loss: 0.2406 - val_accuracy: 0.9227\n",
            "Epoch 179/300\n",
            "153/153 [==============================] - 0s 2ms/step - loss: 0.4391 - accuracy: 0.8273 - val_loss: 0.2178 - val_accuracy: 0.9330\n",
            "Epoch 180/300\n",
            "153/153 [==============================] - 0s 2ms/step - loss: 0.4207 - accuracy: 0.8286 - val_loss: 0.2996 - val_accuracy: 0.8921\n",
            "Epoch 181/300\n",
            "153/153 [==============================] - 0s 2ms/step - loss: 0.4303 - accuracy: 0.8307 - val_loss: 0.2512 - val_accuracy: 0.9143\n",
            "Epoch 182/300\n",
            "153/153 [==============================] - 0s 2ms/step - loss: 0.4383 - accuracy: 0.8290 - val_loss: 0.1993 - val_accuracy: 0.9403\n",
            "Epoch 183/300\n",
            "153/153 [==============================] - 0s 2ms/step - loss: 0.4433 - accuracy: 0.8244 - val_loss: 0.1697 - val_accuracy: 0.9553\n",
            "Epoch 184/300\n",
            "153/153 [==============================] - 0s 2ms/step - loss: 0.4442 - accuracy: 0.8271 - val_loss: 0.2043 - val_accuracy: 0.9338\n",
            "Epoch 185/300\n",
            "153/153 [==============================] - 0s 2ms/step - loss: 0.4395 - accuracy: 0.8302 - val_loss: 0.2131 - val_accuracy: 0.9325\n",
            "Epoch 186/300\n",
            "153/153 [==============================] - 0s 2ms/step - loss: 0.4393 - accuracy: 0.8306 - val_loss: 0.1877 - val_accuracy: 0.9479\n",
            "Epoch 187/300\n",
            "153/153 [==============================] - 0s 2ms/step - loss: 0.4336 - accuracy: 0.8249 - val_loss: 0.3206 - val_accuracy: 0.8778\n",
            "Epoch 188/300\n",
            "153/153 [==============================] - 0s 2ms/step - loss: 0.4441 - accuracy: 0.8287 - val_loss: 0.2015 - val_accuracy: 0.9387\n",
            "Epoch 189/300\n",
            "153/153 [==============================] - 0s 2ms/step - loss: 0.4344 - accuracy: 0.8298 - val_loss: 0.2567 - val_accuracy: 0.9159\n",
            "Epoch 190/300\n",
            "153/153 [==============================] - 0s 2ms/step - loss: 0.4218 - accuracy: 0.8310 - val_loss: 0.1935 - val_accuracy: 0.9405\n",
            "Epoch 191/300\n",
            "153/153 [==============================] - 0s 2ms/step - loss: 0.4299 - accuracy: 0.8289 - val_loss: 0.2249 - val_accuracy: 0.9336\n",
            "Epoch 192/300\n",
            "153/153 [==============================] - 0s 2ms/step - loss: 0.4318 - accuracy: 0.8289 - val_loss: 0.1791 - val_accuracy: 0.9496\n",
            "Epoch 193/300\n",
            "153/153 [==============================] - 0s 2ms/step - loss: 0.4313 - accuracy: 0.8309 - val_loss: 0.1762 - val_accuracy: 0.9514\n",
            "Epoch 194/300\n",
            "153/153 [==============================] - 0s 2ms/step - loss: 0.4376 - accuracy: 0.8253 - val_loss: 0.1968 - val_accuracy: 0.9434\n",
            "Epoch 195/300\n",
            "153/153 [==============================] - 0s 2ms/step - loss: 0.4204 - accuracy: 0.8334 - val_loss: 0.2064 - val_accuracy: 0.9391\n",
            "Epoch 196/300\n",
            "153/153 [==============================] - 0s 2ms/step - loss: 0.4230 - accuracy: 0.8342 - val_loss: 0.1793 - val_accuracy: 0.9483\n",
            "Epoch 197/300\n",
            "153/153 [==============================] - 0s 2ms/step - loss: 0.4279 - accuracy: 0.8277 - val_loss: 0.1728 - val_accuracy: 0.9504\n",
            "Epoch 198/300\n",
            "153/153 [==============================] - 0s 2ms/step - loss: 0.4408 - accuracy: 0.8308 - val_loss: 0.2258 - val_accuracy: 0.9293\n",
            "Epoch 199/300\n",
            "153/153 [==============================] - 0s 2ms/step - loss: 0.4228 - accuracy: 0.8303 - val_loss: 0.2218 - val_accuracy: 0.9317\n",
            "Epoch 200/300\n",
            "153/153 [==============================] - 0s 2ms/step - loss: 0.4261 - accuracy: 0.8324 - val_loss: 0.1978 - val_accuracy: 0.9403\n",
            "Epoch 201/300\n",
            "153/153 [==============================] - 0s 2ms/step - loss: 0.4419 - accuracy: 0.8318 - val_loss: 0.1760 - val_accuracy: 0.9489\n",
            "Epoch 202/300\n",
            "153/153 [==============================] - 0s 2ms/step - loss: 0.4256 - accuracy: 0.8324 - val_loss: 0.1716 - val_accuracy: 0.9530\n",
            "Epoch 203/300\n",
            "153/153 [==============================] - 0s 2ms/step - loss: 0.4386 - accuracy: 0.8342 - val_loss: 0.1635 - val_accuracy: 0.9547\n",
            "Epoch 204/300\n",
            "153/153 [==============================] - 0s 2ms/step - loss: 0.4246 - accuracy: 0.8325 - val_loss: 0.2074 - val_accuracy: 0.9338\n",
            "Epoch 205/300\n",
            "153/153 [==============================] - 0s 2ms/step - loss: 0.4512 - accuracy: 0.8354 - val_loss: 0.1733 - val_accuracy: 0.9512\n",
            "Epoch 206/300\n",
            "153/153 [==============================] - 0s 2ms/step - loss: 0.4263 - accuracy: 0.8318 - val_loss: 0.1321 - val_accuracy: 0.9684\n",
            "Epoch 207/300\n",
            "153/153 [==============================] - 0s 2ms/step - loss: 0.4269 - accuracy: 0.8357 - val_loss: 0.2234 - val_accuracy: 0.9280\n",
            "Epoch 208/300\n",
            "153/153 [==============================] - 0s 2ms/step - loss: 0.4275 - accuracy: 0.8324 - val_loss: 0.2662 - val_accuracy: 0.9071\n",
            "Epoch 209/300\n",
            "153/153 [==============================] - 0s 2ms/step - loss: 0.4388 - accuracy: 0.8338 - val_loss: 0.1990 - val_accuracy: 0.9381\n",
            "Epoch 210/300\n",
            "153/153 [==============================] - 0s 2ms/step - loss: 0.4133 - accuracy: 0.8346 - val_loss: 0.1737 - val_accuracy: 0.9506\n",
            "Epoch 211/300\n",
            "153/153 [==============================] - 0s 2ms/step - loss: 0.4201 - accuracy: 0.8345 - val_loss: 0.1738 - val_accuracy: 0.9520\n",
            "Epoch 212/300\n",
            "153/153 [==============================] - 0s 2ms/step - loss: 0.4159 - accuracy: 0.8333 - val_loss: 0.2063 - val_accuracy: 0.9393\n",
            "Epoch 213/300\n",
            "153/153 [==============================] - 0s 2ms/step - loss: 0.4255 - accuracy: 0.8321 - val_loss: 0.1695 - val_accuracy: 0.9528\n",
            "Epoch 214/300\n",
            "153/153 [==============================] - 0s 2ms/step - loss: 0.4144 - accuracy: 0.8353 - val_loss: 0.1983 - val_accuracy: 0.9397\n",
            "Epoch 215/300\n",
            "153/153 [==============================] - 0s 2ms/step - loss: 0.4281 - accuracy: 0.8343 - val_loss: 0.1591 - val_accuracy: 0.9555\n",
            "Epoch 216/300\n",
            "153/153 [==============================] - 0s 2ms/step - loss: 0.4339 - accuracy: 0.8361 - val_loss: 0.2464 - val_accuracy: 0.9184\n",
            "Epoch 217/300\n",
            "153/153 [==============================] - 0s 2ms/step - loss: 0.4252 - accuracy: 0.8314 - val_loss: 0.2052 - val_accuracy: 0.9364\n",
            "Epoch 218/300\n",
            "153/153 [==============================] - 0s 2ms/step - loss: 0.4213 - accuracy: 0.8341 - val_loss: 0.1827 - val_accuracy: 0.9463\n",
            "Epoch 219/300\n",
            "153/153 [==============================] - 0s 2ms/step - loss: 0.4188 - accuracy: 0.8345 - val_loss: 0.1803 - val_accuracy: 0.9465\n",
            "Epoch 220/300\n",
            "153/153 [==============================] - 0s 2ms/step - loss: 0.4290 - accuracy: 0.8330 - val_loss: 0.2654 - val_accuracy: 0.9096\n",
            "Epoch 221/300\n",
            "153/153 [==============================] - 0s 2ms/step - loss: 0.4279 - accuracy: 0.8344 - val_loss: 0.1639 - val_accuracy: 0.9576\n",
            "Epoch 222/300\n",
            "153/153 [==============================] - 0s 2ms/step - loss: 0.4215 - accuracy: 0.8380 - val_loss: 0.1785 - val_accuracy: 0.9494\n",
            "Epoch 223/300\n",
            "153/153 [==============================] - 0s 2ms/step - loss: 0.4237 - accuracy: 0.8388 - val_loss: 0.3365 - val_accuracy: 0.8782\n",
            "Epoch 224/300\n",
            "153/153 [==============================] - 0s 2ms/step - loss: 0.4184 - accuracy: 0.8370 - val_loss: 0.2225 - val_accuracy: 0.9330\n",
            "Epoch 225/300\n",
            "153/153 [==============================] - 0s 2ms/step - loss: 0.4194 - accuracy: 0.8352 - val_loss: 0.1674 - val_accuracy: 0.9547\n",
            "Epoch 226/300\n",
            "153/153 [==============================] - 0s 2ms/step - loss: 0.4124 - accuracy: 0.8351 - val_loss: 0.1681 - val_accuracy: 0.9547\n",
            "Epoch 227/300\n",
            "153/153 [==============================] - 0s 2ms/step - loss: 0.4203 - accuracy: 0.8396 - val_loss: 0.1603 - val_accuracy: 0.9596\n",
            "Epoch 228/300\n",
            "153/153 [==============================] - 0s 2ms/step - loss: 0.4122 - accuracy: 0.8388 - val_loss: 0.2054 - val_accuracy: 0.9371\n",
            "Epoch 229/300\n",
            "153/153 [==============================] - 0s 2ms/step - loss: 0.4309 - accuracy: 0.8394 - val_loss: 0.2812 - val_accuracy: 0.9018\n",
            "Epoch 230/300\n",
            "153/153 [==============================] - 0s 2ms/step - loss: 0.4339 - accuracy: 0.8396 - val_loss: 0.1785 - val_accuracy: 0.9500\n",
            "Epoch 231/300\n",
            "153/153 [==============================] - 0s 2ms/step - loss: 0.4187 - accuracy: 0.8405 - val_loss: 0.2275 - val_accuracy: 0.9241\n",
            "Epoch 232/300\n",
            "153/153 [==============================] - 0s 2ms/step - loss: 0.4370 - accuracy: 0.8382 - val_loss: 0.2064 - val_accuracy: 0.9334\n",
            "Epoch 233/300\n",
            "153/153 [==============================] - 0s 2ms/step - loss: 0.4284 - accuracy: 0.8389 - val_loss: 0.1922 - val_accuracy: 0.9440\n",
            "Epoch 234/300\n",
            "153/153 [==============================] - 0s 2ms/step - loss: 0.4227 - accuracy: 0.8377 - val_loss: 0.2264 - val_accuracy: 0.9268\n",
            "Epoch 235/300\n",
            "153/153 [==============================] - 0s 2ms/step - loss: 0.4197 - accuracy: 0.8367 - val_loss: 0.1848 - val_accuracy: 0.9455\n",
            "Epoch 236/300\n",
            "153/153 [==============================] - 0s 2ms/step - loss: 0.4151 - accuracy: 0.8382 - val_loss: 0.1967 - val_accuracy: 0.9395\n",
            "Epoch 237/300\n",
            "153/153 [==============================] - 0s 2ms/step - loss: 0.4055 - accuracy: 0.8414 - val_loss: 0.1822 - val_accuracy: 0.9473\n",
            "Epoch 238/300\n",
            "153/153 [==============================] - 0s 2ms/step - loss: 0.4225 - accuracy: 0.8393 - val_loss: 0.1860 - val_accuracy: 0.9453\n",
            "Epoch 239/300\n",
            "153/153 [==============================] - 0s 2ms/step - loss: 0.4178 - accuracy: 0.8426 - val_loss: 0.1974 - val_accuracy: 0.9385\n",
            "Epoch 240/300\n",
            "153/153 [==============================] - 0s 2ms/step - loss: 0.4098 - accuracy: 0.8384 - val_loss: 0.2301 - val_accuracy: 0.9239\n",
            "Epoch 241/300\n",
            "153/153 [==============================] - 0s 2ms/step - loss: 0.4142 - accuracy: 0.8404 - val_loss: 0.1556 - val_accuracy: 0.9596\n",
            "Epoch 242/300\n",
            "153/153 [==============================] - 0s 2ms/step - loss: 0.4245 - accuracy: 0.8393 - val_loss: 0.1866 - val_accuracy: 0.9450\n",
            "Epoch 243/300\n",
            "153/153 [==============================] - 0s 2ms/step - loss: 0.4201 - accuracy: 0.8347 - val_loss: 0.2065 - val_accuracy: 0.9334\n",
            "Epoch 244/300\n",
            "153/153 [==============================] - 0s 2ms/step - loss: 0.4140 - accuracy: 0.8414 - val_loss: 0.2050 - val_accuracy: 0.9352\n",
            "Epoch 245/300\n",
            "153/153 [==============================] - 0s 2ms/step - loss: 0.4198 - accuracy: 0.8397 - val_loss: 0.2050 - val_accuracy: 0.9348\n",
            "Epoch 246/300\n",
            "153/153 [==============================] - 0s 2ms/step - loss: 0.4289 - accuracy: 0.8414 - val_loss: 0.1465 - val_accuracy: 0.9590\n",
            "Epoch 247/300\n",
            "153/153 [==============================] - 0s 2ms/step - loss: 0.4242 - accuracy: 0.8403 - val_loss: 0.2138 - val_accuracy: 0.9270\n",
            "Epoch 248/300\n",
            "153/153 [==============================] - 0s 2ms/step - loss: 0.4186 - accuracy: 0.8409 - val_loss: 0.2194 - val_accuracy: 0.9264\n",
            "Epoch 249/300\n",
            "153/153 [==============================] - 0s 2ms/step - loss: 0.4202 - accuracy: 0.8400 - val_loss: 0.2136 - val_accuracy: 0.9332\n",
            "Epoch 250/300\n",
            "153/153 [==============================] - 0s 2ms/step - loss: 0.4312 - accuracy: 0.8420 - val_loss: 0.2350 - val_accuracy: 0.9231\n",
            "Epoch 251/300\n",
            "153/153 [==============================] - 0s 2ms/step - loss: 0.4202 - accuracy: 0.8434 - val_loss: 0.1794 - val_accuracy: 0.9487\n",
            "Epoch 252/300\n",
            "153/153 [==============================] - 0s 2ms/step - loss: 0.4156 - accuracy: 0.8422 - val_loss: 0.1185 - val_accuracy: 0.9738\n",
            "Epoch 253/300\n",
            "153/153 [==============================] - 0s 2ms/step - loss: 0.4147 - accuracy: 0.8376 - val_loss: 0.1774 - val_accuracy: 0.9514\n",
            "Epoch 254/300\n",
            "153/153 [==============================] - 0s 2ms/step - loss: 0.4121 - accuracy: 0.8397 - val_loss: 0.1667 - val_accuracy: 0.9537\n",
            "Epoch 255/300\n",
            "153/153 [==============================] - 0s 2ms/step - loss: 0.4040 - accuracy: 0.8430 - val_loss: 0.1670 - val_accuracy: 0.9541\n",
            "Epoch 256/300\n",
            "153/153 [==============================] - 0s 2ms/step - loss: 0.4248 - accuracy: 0.8438 - val_loss: 0.1302 - val_accuracy: 0.9668\n",
            "Epoch 257/300\n",
            "153/153 [==============================] - 0s 2ms/step - loss: 0.4107 - accuracy: 0.8413 - val_loss: 0.1631 - val_accuracy: 0.9571\n",
            "Epoch 258/300\n",
            "153/153 [==============================] - 0s 2ms/step - loss: 0.4184 - accuracy: 0.8417 - val_loss: 0.1839 - val_accuracy: 0.9440\n",
            "Epoch 259/300\n",
            "153/153 [==============================] - 0s 2ms/step - loss: 0.4166 - accuracy: 0.8401 - val_loss: 0.1451 - val_accuracy: 0.9596\n",
            "Epoch 260/300\n",
            "153/153 [==============================] - 0s 2ms/step - loss: 0.4215 - accuracy: 0.8432 - val_loss: 0.2928 - val_accuracy: 0.9020\n",
            "Epoch 261/300\n",
            "153/153 [==============================] - 0s 2ms/step - loss: 0.4035 - accuracy: 0.8449 - val_loss: 0.2340 - val_accuracy: 0.9180\n",
            "Epoch 262/300\n",
            "153/153 [==============================] - 0s 2ms/step - loss: 0.4182 - accuracy: 0.8433 - val_loss: 0.2415 - val_accuracy: 0.9180\n",
            "Epoch 263/300\n",
            "153/153 [==============================] - 0s 2ms/step - loss: 0.4278 - accuracy: 0.8386 - val_loss: 0.1931 - val_accuracy: 0.9395\n",
            "Epoch 264/300\n",
            "153/153 [==============================] - 0s 2ms/step - loss: 0.4137 - accuracy: 0.8439 - val_loss: 0.1613 - val_accuracy: 0.9567\n",
            "Epoch 265/300\n",
            "153/153 [==============================] - 0s 2ms/step - loss: 0.4091 - accuracy: 0.8409 - val_loss: 0.2069 - val_accuracy: 0.9352\n",
            "Epoch 266/300\n",
            "153/153 [==============================] - 0s 2ms/step - loss: 0.4236 - accuracy: 0.8430 - val_loss: 0.1437 - val_accuracy: 0.9612\n",
            "Epoch 267/300\n",
            "153/153 [==============================] - 0s 2ms/step - loss: 0.4248 - accuracy: 0.8413 - val_loss: 0.1876 - val_accuracy: 0.9436\n",
            "Epoch 268/300\n",
            "153/153 [==============================] - 0s 2ms/step - loss: 0.4113 - accuracy: 0.8443 - val_loss: 0.1948 - val_accuracy: 0.9422\n",
            "Epoch 269/300\n",
            "153/153 [==============================] - 0s 2ms/step - loss: 0.4078 - accuracy: 0.8415 - val_loss: 0.1983 - val_accuracy: 0.9391\n",
            "Epoch 270/300\n",
            "153/153 [==============================] - 0s 2ms/step - loss: 0.3987 - accuracy: 0.8440 - val_loss: 0.2436 - val_accuracy: 0.9151\n",
            "Epoch 271/300\n",
            "153/153 [==============================] - 0s 2ms/step - loss: 0.4072 - accuracy: 0.8440 - val_loss: 0.1740 - val_accuracy: 0.9526\n",
            "Epoch 272/300\n",
            "153/153 [==============================] - 0s 2ms/step - loss: 0.4244 - accuracy: 0.8431 - val_loss: 0.1438 - val_accuracy: 0.9621\n",
            "Epoch 273/300\n",
            "153/153 [==============================] - 0s 2ms/step - loss: 0.4095 - accuracy: 0.8419 - val_loss: 0.2181 - val_accuracy: 0.9280\n",
            "Epoch 274/300\n",
            "153/153 [==============================] - 0s 2ms/step - loss: 0.4111 - accuracy: 0.8433 - val_loss: 0.2279 - val_accuracy: 0.9227\n",
            "Epoch 275/300\n",
            "153/153 [==============================] - 0s 2ms/step - loss: 0.4145 - accuracy: 0.8420 - val_loss: 0.2128 - val_accuracy: 0.9325\n",
            "Epoch 276/300\n",
            "153/153 [==============================] - 0s 2ms/step - loss: 0.4076 - accuracy: 0.8464 - val_loss: 0.1887 - val_accuracy: 0.9430\n",
            "Epoch 277/300\n",
            "153/153 [==============================] - 0s 2ms/step - loss: 0.4094 - accuracy: 0.8463 - val_loss: 0.1665 - val_accuracy: 0.9498\n",
            "Epoch 278/300\n",
            "153/153 [==============================] - 0s 2ms/step - loss: 0.4054 - accuracy: 0.8399 - val_loss: 0.2088 - val_accuracy: 0.9336\n",
            "Epoch 279/300\n",
            "153/153 [==============================] - 0s 2ms/step - loss: 0.4071 - accuracy: 0.8426 - val_loss: 0.2249 - val_accuracy: 0.9268\n",
            "Epoch 280/300\n",
            "153/153 [==============================] - 0s 2ms/step - loss: 0.4160 - accuracy: 0.8455 - val_loss: 0.2130 - val_accuracy: 0.9307\n",
            "Epoch 281/300\n",
            "153/153 [==============================] - 0s 2ms/step - loss: 0.4080 - accuracy: 0.8451 - val_loss: 0.1833 - val_accuracy: 0.9436\n",
            "Epoch 282/300\n",
            "153/153 [==============================] - 0s 2ms/step - loss: 0.4215 - accuracy: 0.8414 - val_loss: 0.1900 - val_accuracy: 0.9403\n",
            "Epoch 283/300\n",
            "153/153 [==============================] - 0s 2ms/step - loss: 0.3987 - accuracy: 0.8463 - val_loss: 0.1536 - val_accuracy: 0.9557\n",
            "Epoch 284/300\n",
            "153/153 [==============================] - 0s 2ms/step - loss: 0.4036 - accuracy: 0.8434 - val_loss: 0.2112 - val_accuracy: 0.9309\n",
            "Epoch 285/300\n",
            "153/153 [==============================] - 0s 2ms/step - loss: 0.4178 - accuracy: 0.8457 - val_loss: 0.2715 - val_accuracy: 0.9067\n",
            "Epoch 286/300\n",
            "153/153 [==============================] - 0s 2ms/step - loss: 0.3918 - accuracy: 0.8423 - val_loss: 0.1719 - val_accuracy: 0.9508\n",
            "Epoch 287/300\n",
            "153/153 [==============================] - 0s 2ms/step - loss: 0.4038 - accuracy: 0.8492 - val_loss: 0.1791 - val_accuracy: 0.9475\n",
            "Epoch 288/300\n",
            "153/153 [==============================] - 0s 2ms/step - loss: 0.4091 - accuracy: 0.8423 - val_loss: 0.1935 - val_accuracy: 0.9379\n",
            "Epoch 289/300\n",
            "153/153 [==============================] - 0s 2ms/step - loss: 0.4135 - accuracy: 0.8475 - val_loss: 0.1636 - val_accuracy: 0.9541\n",
            "Epoch 290/300\n",
            "153/153 [==============================] - 0s 2ms/step - loss: 0.4092 - accuracy: 0.8460 - val_loss: 0.1840 - val_accuracy: 0.9448\n",
            "Epoch 291/300\n",
            "153/153 [==============================] - 0s 2ms/step - loss: 0.4106 - accuracy: 0.8457 - val_loss: 0.2766 - val_accuracy: 0.9055\n",
            "Epoch 292/300\n",
            "153/153 [==============================] - 0s 2ms/step - loss: 0.4115 - accuracy: 0.8433 - val_loss: 0.2181 - val_accuracy: 0.9311\n",
            "Epoch 293/300\n",
            "153/153 [==============================] - 0s 2ms/step - loss: 0.4152 - accuracy: 0.8473 - val_loss: 0.1573 - val_accuracy: 0.9522\n",
            "Epoch 294/300\n",
            "153/153 [==============================] - 0s 2ms/step - loss: 0.4104 - accuracy: 0.8469 - val_loss: 0.2386 - val_accuracy: 0.9170\n",
            "Epoch 295/300\n",
            "153/153 [==============================] - 0s 2ms/step - loss: 0.4079 - accuracy: 0.8450 - val_loss: 0.1822 - val_accuracy: 0.9438\n",
            "Epoch 296/300\n",
            "153/153 [==============================] - 0s 2ms/step - loss: 0.4089 - accuracy: 0.8513 - val_loss: 0.1797 - val_accuracy: 0.9455\n",
            "Epoch 297/300\n",
            "153/153 [==============================] - 0s 2ms/step - loss: 0.4118 - accuracy: 0.8500 - val_loss: 0.2106 - val_accuracy: 0.9334\n",
            "Epoch 298/300\n",
            "153/153 [==============================] - 0s 2ms/step - loss: 0.4066 - accuracy: 0.8477 - val_loss: 0.2105 - val_accuracy: 0.9338\n",
            "Epoch 299/300\n",
            "153/153 [==============================] - 0s 2ms/step - loss: 0.4241 - accuracy: 0.8455 - val_loss: 0.2320 - val_accuracy: 0.9252\n",
            "Epoch 300/300\n",
            "153/153 [==============================] - 0s 2ms/step - loss: 0.4092 - accuracy: 0.8459 - val_loss: 0.1918 - val_accuracy: 0.9391\n"
          ],
          "name": "stdout"
        },
        {
          "output_type": "execute_result",
          "data": {
            "text/plain": [
              "<tensorflow.python.keras.callbacks.History at 0x7f5bf0a687f0>"
            ]
          },
          "metadata": {
            "tags": []
          },
          "execution_count": 55
        }
      ]
    },
    {
      "cell_type": "code",
      "metadata": {
        "id": "Yu2_OCa4E0kN",
        "outputId": "c2219d12-cbef-4d79-fca3-876289414db1",
        "colab": {
          "base_uri": "https://localhost:8080/",
          "height": 797
        }
      },
      "source": [
        "\n",
        "loss, acc = nn.evaluate(scaled_X_test, y_test)\n",
        "y_pred5 =  (nn.predict(scaled_X_test)>0.5).reshape(y_test.shape)\n",
        "probs = nn.predict(scaled_X_test)\n",
        "cm = confusion_matrix(y_test,y_pred5)\n",
        "plot_confusion_matrix(cm)\n",
        "score5=get_accuracy(y_test, y_pred5)\n",
        "#print(\"Linear Regression Testset Accuracy: {0:.2f}%\".format(get_accuracy(y_test, y_pred)*100))\n",
        "recall5= (cm[1,1])/(cm[1,0]+cm[1,1])\n",
        "auc5 = roc_auc_score(y_test, probs)\n",
        "print('Logistic Regression')\n",
        "evaluation_nn(scaled_X_test, nn, y_test)\n",
        "print(\"Recall:    %.2f%%\" % (recall5*100))\n",
        "plot_roc_curve(y_test, probs)"
      ],
      "execution_count": 56,
      "outputs": [
        {
          "output_type": "stream",
          "text": [
            "63/63 [==============================] - 0s 900us/step - loss: 0.5151 - accuracy: 0.7645\n"
          ],
          "name": "stdout"
        },
        {
          "output_type": "display_data",
          "data": {
            "image/png": "[encoded data removed]",
            "text/plain": [
              "<Figure size 432x288 with 2 Axes>"
            ]
          },
          "metadata": {
            "tags": [],
            "needs_background": "light"
          }
        },
        {
          "output_type": "stream",
          "text": [
            "Logistic Regression\n",
            "Classification Report\n",
            "              precision    recall  f1-score   support\n",
            "\n",
            "           0       0.91      0.78      0.84      1581\n",
            "           1       0.46      0.72      0.56       419\n",
            "\n",
            "    accuracy                           0.76      2000\n",
            "   macro avg       0.69      0.75      0.70      2000\n",
            "weighted avg       0.82      0.76      0.78      2000\n",
            "\n",
            "Accuracy:  76.45 %\n",
            "Recall:    71.84%\n",
            "Logistic: ROC AUC: 0.838\n"
          ],
          "name": "stdout"
        },
        {
          "output_type": "display_data",
          "data": {
            "image/png": "[encoded data removed]",
            "text/plain": [
              "<Figure size 432x288 with 1 Axes>"
            ]
          },
          "metadata": {
            "tags": [],
            "needs_background": "light"
          }
        }
      ]
    },
    {
      "cell_type": "code",
      "metadata": {
        "id": "tu4MErzwKQ4p",
        "outputId": "a212e11a-8838-4d92-bdb4-55be63c589a6",
        "colab": {
          "base_uri": "https://localhost:8080/",
          "height": 34
        }
      },
      "source": [
        "#X_train.shape"
      ],
      "execution_count": null,
      "outputs": [
        {
          "output_type": "execute_result",
          "data": {
            "text/plain": [
              "(25566, 11)"
            ]
          },
          "metadata": {
            "tags": []
          },
          "execution_count": 209
        }
      ]
    },
    {
      "cell_type": "markdown",
      "metadata": {
        "id": "5zW3c3fumBY8"
      },
      "source": [
        "#Comparison: \n",
        "1.Linear Regression   2.Decision Tree   3.Random Forest   4.XGBoost   5.Neural Network"
      ]
    },
    {
      "cell_type": "code",
      "metadata": {
        "id": "ULoxWybZmAlx",
        "outputId": "37a477a4-ba5f-41fc-c08f-b254218ab8d5",
        "colab": {
          "base_uri": "https://localhost:8080/",
          "height": 261
        }
      },
      "source": [
        "import numpy as np\n",
        "import pandas as pd\n",
        "import matplotlib.pyplot as plt\n",
        "import seaborn as sns\n",
        "from IPython.display import HTML\n",
        "\n",
        "th_props = [\n",
        "  ('font-size', '28px'),\n",
        "  ('text-align', 'center'),\n",
        "  ('font-weight', 'bold'),\n",
        "  ('color', '#021755'),\n",
        "  ('background-color', '#fbe4e5')\n",
        "  ]\n",
        "\n",
        "# Set CSS properties for td elements in dataframe\n",
        "td_props = [\n",
        "  ('font-size', '25px'),\n",
        "  ('background-color', '#f7f2ed')\n",
        "  ]\n",
        "\n",
        "# Set table styles\n",
        "styles = [\n",
        "  dict(selector=\"th\", props=th_props),\n",
        "  dict(selector=\"td\", props=td_props)\n",
        "  ]\n",
        "\n",
        "d = {'Models': [\"Logistic Regression\",\"Desicion Tree\",\"Random Forest\",\"XGBoost\",\"Neural Network\"], \n",
        "     'Accuracy': [score1,score2,score3,score4,score5],\n",
        "     'Recall':[recall1,recall2,recall3,recall4,recall5],\n",
        "     'AUC':[auc1,auc2,auc3,auc4,auc5]}\n",
        "df = pd.DataFrame(data=d)\n",
        "cm = sns.light_palette(\"red\", as_cmap=True)\n",
        "\n",
        "(df.style\n",
        "  .set_caption('Models Comparison')\n",
        "  .format({'total_amt_usd_pct_diff': \"{:.2%}\"})\n",
        "  .set_table_styles(styles))"
      ],
      "execution_count": 79,
      "outputs": [
        {
          "output_type": "execute_result",
          "data": {
            "text/html": [
              "<style  type=\"text/css\" >\n",
              "    #T_5e72e432_0657_11eb_9978_0242ac1c0002 th {\n",
              "          font-size: 28px;\n",
              "          text-align: center;\n",
              "          font-weight: bold;\n",
              "          color: #021755;\n",
              "          background-color: #fbe4e5;\n",
              "    }    #T_5e72e432_0657_11eb_9978_0242ac1c0002 td {\n",
              "          font-size: 25px;\n",
              "          background-color: #f7f2ed;\n",
              "    }</style><table id=\"T_5e72e432_0657_11eb_9978_0242ac1c0002\" ><caption>Models Comparison</caption><thead>    <tr>        <th class=\"blank level0\" ></th>        <th class=\"col_heading level0 col0\" >Models</th>        <th class=\"col_heading level0 col1\" >Accuracy</th>        <th class=\"col_heading level0 col2\" >Recall</th>        <th class=\"col_heading level0 col3\" >AUC</th>    </tr></thead><tbody>\n",
              "                <tr>\n",
              "                        <th id=\"T_5e72e432_0657_11eb_9978_0242ac1c0002level0_row0\" class=\"row_heading level0 row0\" >0</th>\n",
              "                        <td id=\"T_5e72e432_0657_11eb_9978_0242ac1c0002row0_col0\" class=\"data row0 col0\" >Logistic Regression</td>\n",
              "                        <td id=\"T_5e72e432_0657_11eb_9978_0242ac1c0002row0_col1\" class=\"data row0 col1\" >0.706333</td>\n",
              "                        <td id=\"T_5e72e432_0657_11eb_9978_0242ac1c0002row0_col2\" class=\"data row0 col2\" >0.696517</td>\n",
              "                        <td id=\"T_5e72e432_0657_11eb_9978_0242ac1c0002row0_col3\" class=\"data row0 col3\" >0.770131</td>\n",
              "            </tr>\n",
              "            <tr>\n",
              "                        <th id=\"T_5e72e432_0657_11eb_9978_0242ac1c0002level0_row1\" class=\"row_heading level0 row1\" >1</th>\n",
              "                        <td id=\"T_5e72e432_0657_11eb_9978_0242ac1c0002row1_col0\" class=\"data row1 col0\" >Desicion Tree</td>\n",
              "                        <td id=\"T_5e72e432_0657_11eb_9978_0242ac1c0002row1_col1\" class=\"data row1 col1\" >0.765333</td>\n",
              "                        <td id=\"T_5e72e432_0657_11eb_9978_0242ac1c0002row1_col2\" class=\"data row1 col2\" >0.749585</td>\n",
              "                        <td id=\"T_5e72e432_0657_11eb_9978_0242ac1c0002row1_col3\" class=\"data row1 col3\" >0.831248</td>\n",
              "            </tr>\n",
              "            <tr>\n",
              "                        <th id=\"T_5e72e432_0657_11eb_9978_0242ac1c0002level0_row2\" class=\"row_heading level0 row2\" >2</th>\n",
              "                        <td id=\"T_5e72e432_0657_11eb_9978_0242ac1c0002row2_col0\" class=\"data row2 col0\" >Random Forest</td>\n",
              "                        <td id=\"T_5e72e432_0657_11eb_9978_0242ac1c0002row2_col1\" class=\"data row2 col1\" >0.776667</td>\n",
              "                        <td id=\"T_5e72e432_0657_11eb_9978_0242ac1c0002row2_col2\" class=\"data row2 col2\" >0.723051</td>\n",
              "                        <td id=\"T_5e72e432_0657_11eb_9978_0242ac1c0002row2_col3\" class=\"data row2 col3\" >0.843925</td>\n",
              "            </tr>\n",
              "            <tr>\n",
              "                        <th id=\"T_5e72e432_0657_11eb_9978_0242ac1c0002level0_row3\" class=\"row_heading level0 row3\" >3</th>\n",
              "                        <td id=\"T_5e72e432_0657_11eb_9978_0242ac1c0002row3_col0\" class=\"data row3 col0\" >XGBoost</td>\n",
              "                        <td id=\"T_5e72e432_0657_11eb_9978_0242ac1c0002row3_col1\" class=\"data row3 col1\" >0.804000</td>\n",
              "                        <td id=\"T_5e72e432_0657_11eb_9978_0242ac1c0002row3_col2\" class=\"data row3 col2\" >0.721393</td>\n",
              "                        <td id=\"T_5e72e432_0657_11eb_9978_0242ac1c0002row3_col3\" class=\"data row3 col3\" >0.858907</td>\n",
              "            </tr>\n",
              "            <tr>\n",
              "                        <th id=\"T_5e72e432_0657_11eb_9978_0242ac1c0002level0_row4\" class=\"row_heading level0 row4\" >4</th>\n",
              "                        <td id=\"T_5e72e432_0657_11eb_9978_0242ac1c0002row4_col0\" class=\"data row4 col0\" >Neural Network</td>\n",
              "                        <td id=\"T_5e72e432_0657_11eb_9978_0242ac1c0002row4_col1\" class=\"data row4 col1\" >0.764500</td>\n",
              "                        <td id=\"T_5e72e432_0657_11eb_9978_0242ac1c0002row4_col2\" class=\"data row4 col2\" >0.718377</td>\n",
              "                        <td id=\"T_5e72e432_0657_11eb_9978_0242ac1c0002row4_col3\" class=\"data row4 col3\" >0.837594</td>\n",
              "            </tr>\n",
              "    </tbody></table>"
            ],
            "text/plain": [
              "<pandas.io.formats.style.Styler at 0x7f5bed79ad68>"
            ]
          },
          "metadata": {
            "tags": []
          },
          "execution_count": 79
        }
      ]
    },
    {
      "cell_type": "code",
      "metadata": {
        "id": "YiLfe_3zGXxk",
        "outputId": "a09e30e1-a478-4533-9c3e-1fdedad7a9b2",
        "colab": {
          "base_uri": "https://localhost:8080/",
          "height": 466
        }
      },
      "source": [
        "import numpy \n",
        "from matplotlib import pyplot\n",
        "LG = linear_classifier\n",
        "importances0 = LG.coef_[0]\n",
        "\n",
        "# Print the feature ranking\n",
        "print(\"Logistic Regression Feature(not ranking):\")\n",
        "for f in range(X_initial.shape[1]):\n",
        "    print(\"feature: %s   score: %f\" % (f, importances0[f]))\n",
        "# Plot features\n",
        "pyplot.bar([x for x in range(len(importances0))], importances0)\n",
        "pyplot.show()"
      ],
      "execution_count": null,
      "outputs": [
        {
          "output_type": "stream",
          "text": [
            "Logistic Regression Feature(not ranking):\n",
            "feature: 0   score: -0.637408\n",
            "feature: 1   score: -0.570670\n",
            "feature: 2   score: 6.364458\n",
            "feature: 3   score: -0.207881\n",
            "feature: 4   score: 0.595707\n",
            "feature: 5   score: -0.390748\n",
            "feature: 6   score: -0.055775\n",
            "feature: 7   score: -1.113102\n",
            "feature: 8   score: 0.127145\n",
            "feature: 9   score: 0.812524\n",
            "feature: 10   score: -0.012450\n"
          ],
          "name": "stdout"
        },
        {
          "output_type": "display_data",
          "data": {
            "image/png": "[encoded data removed]",
            "text/plain": [
              "<Figure size 432x288 with 1 Axes>"
            ]
          },
          "metadata": {
            "tags": [],
            "needs_background": "light"
          }
        }
      ]
    },
    {
      "cell_type": "markdown",
      "metadata": {
        "id": "9FqtJEdFTZJR"
      },
      "source": [
        "# Feature importance on Decision Tree"
      ]
    },
    {
      "cell_type": "code",
      "metadata": {
        "id": "8edQAlJ8S34g",
        "outputId": "08637320-b49f-40f2-f54f-f63e21315605",
        "colab": {
          "base_uri": "https://localhost:8080/",
          "height": 466
        }
      },
      "source": [
        "import numpy \n",
        "from matplotlib import pyplot\n",
        "importances = estimator.feature_importances_\n",
        "indices = numpy.argsort(importances)[::-1]\n",
        "\n",
        "# Print the feature ranking\n",
        "print(\"Randam Forest Feature ranking:\")\n",
        "\n",
        "for f in range(X_initial.shape[1]):\n",
        "    print(\"feature: %s   score: %f\" % (indices[f], importances[indices[f]]))\n",
        "\n",
        "# plot feature importance\n",
        "pyplot.bar([x for x in range(len(importances))], importances)\n",
        "pyplot.show()"
      ],
      "execution_count": 84,
      "outputs": [
        {
          "output_type": "stream",
          "text": [
            "Randam Forest Feature ranking:\n",
            "feature: 5   score: 0.344345\n",
            "feature: 2   score: 0.283461\n",
            "feature: 7   score: 0.221255\n",
            "feature: 1   score: 0.050601\n",
            "feature: 4   score: 0.042971\n",
            "feature: 9   score: 0.039390\n",
            "feature: 8   score: 0.010350\n",
            "feature: 0   score: 0.004832\n",
            "feature: 3   score: 0.002795\n",
            "feature: 10   score: 0.000000\n",
            "feature: 6   score: 0.000000\n"
          ],
          "name": "stdout"
        },
        {
          "output_type": "display_data",
          "data": {
            "image/png": "[encoded data removed]",
            "text/plain": [
              "<Figure size 432x288 with 1 Axes>"
            ]
          },
          "metadata": {
            "tags": [],
            "needs_background": "light"
          }
        }
      ]
    },
    {
      "cell_type": "markdown",
      "metadata": {
        "id": "EQ_boXTY3oY-"
      },
      "source": [
        "# Feature importance on Random Forest"
      ]
    },
    {
      "cell_type": "code",
      "metadata": {
        "id": "gBD6MukBsbkn",
        "outputId": "dc5800e6-36f3-4761-c308-601011404a20",
        "colab": {
          "base_uri": "https://localhost:8080/",
          "height": 468
        }
      },
      "source": [
        "import numpy \n",
        "from matplotlib import pyplot\n",
        "RF = model3\n",
        "importances = RF.feature_importances_\n",
        "std = numpy.std([tree.feature_importances_ for tree in RF.estimators_],\n",
        "             axis=0)\n",
        "indices = numpy.argsort(importances)[::-1]\n",
        "\n",
        "# Print the feature ranking\n",
        "print(\"Randam Forest Feature ranking:\")\n",
        "\n",
        "for f in range(X_initial.shape[1]):\n",
        "    print(\"feature: %s   score: %f\" % (indices[f], importances[indices[f]]))\n",
        "# Plot features\n",
        "pyplot.bar([x for x in range(len(importances))], importances)\n",
        "pyplot.show()"
      ],
      "execution_count": null,
      "outputs": [
        {
          "output_type": "stream",
          "text": [
            "Randam Forest Feature ranking:\n",
            "feature: 2   score: 0.338597\n",
            "feature: 7   score: 0.219150\n",
            "feature: 5   score: 0.176417\n",
            "feature: 1   score: 0.108686\n",
            "feature: 9   score: 0.086746\n",
            "feature: 10   score: 0.045154\n",
            "feature: 6   score: 0.013503\n",
            "feature: 4   score: 0.010552\n",
            "feature: 3   score: 0.000953\n",
            "feature: 0   score: 0.000241\n",
            "feature: 8   score: 0.000000\n"
          ],
          "name": "stdout"
        },
        {
          "output_type": "display_data",
          "data": {
            "image/png": "[encoded data removed]",
            "text/plain": [
              "<Figure size 432x288 with 1 Axes>"
            ]
          },
          "metadata": {
            "tags": [],
            "needs_background": "light"
          }
        }
      ]
    },
    {
      "cell_type": "markdown",
      "metadata": {
        "id": "vGJuBYGqDpX9"
      },
      "source": [
        "# Feature of importance with XGBoost"
      ]
    },
    {
      "cell_type": "code",
      "metadata": {
        "id": "4rT0zMGbB6OR",
        "outputId": "1a1d76f3-8945-4b77-dfbb-ac45c1a63e0a",
        "colab": {
          "base_uri": "https://localhost:8080/",
          "height": 466
        }
      },
      "source": [
        "import numpy \n",
        "XG = model4\n",
        "importances2 = XG.feature_importances_\n",
        "indices2 = numpy.argsort(importances2)[::-1]\n",
        "\n",
        "# Print the feature ranking\n",
        "print(\"XGBoost Feature ranking:\")\n",
        "for f in range(X_initial.shape[1]):\n",
        "    print(\"feature: %s   score: %f\" % (indices2[f], importances2[indices2[f]]))\n",
        "# Plot features\n",
        "pyplot.bar([x for x in range(len(importances2))], importances2)\n",
        "pyplot.show()"
      ],
      "execution_count": null,
      "outputs": [
        {
          "output_type": "stream",
          "text": [
            "XGBoost Feature ranking:\n",
            "feature: 2   score: 0.271486\n",
            "feature: 5   score: 0.267981\n",
            "feature: 7   score: 0.221297\n",
            "feature: 1   score: 0.127652\n",
            "feature: 9   score: 0.061355\n",
            "feature: 4   score: 0.026139\n",
            "feature: 6   score: 0.006991\n",
            "feature: 10   score: 0.005834\n",
            "feature: 0   score: 0.004583\n",
            "feature: 3   score: 0.003747\n",
            "feature: 8   score: 0.002935\n"
          ],
          "name": "stdout"
        },
        {
          "output_type": "display_data",
          "data": {
            "image/png": "[encoded data removed]",
            "text/plain": [
              "<Figure size 432x288 with 1 Axes>"
            ]
          },
          "metadata": {
            "tags": [],
            "needs_background": "light"
          }
        }
      ]
    },
    {
      "cell_type": "markdown",
      "metadata": {
        "id": "OSVbWE2l1486"
      },
      "source": [
        "# Permutation feature importance\n",
        "Apply this to any sklearn model.\n",
        "Permutation importance does not reflect to the intrinsic predictive value of a feature by itself but how important this feature is for a particular model.\n"
      ]
    },
    {
      "cell_type": "code",
      "metadata": {
        "id": "RRRbV0CJywRl",
        "outputId": "bb835394-d3b7-4ab5-8451-90d6a46f4e9c",
        "colab": {
          "base_uri": "https://localhost:8080/",
          "height": 84
        }
      },
      "source": [
        "from sklearn.inspection import permutation_importance\n",
        "from matplotlib import pyplot\n",
        "r = permutation_importance(linear_classifier, scaled_X_test, y_test, n_repeats=30, random_state=0)\n",
        "\n",
        "for i in r.importances_mean.argsort()[::-1]:\n",
        "     if r.importances_mean[i] - 2 * r.importances_std[i] > 0:\n",
        "         print(f\"{'Feature '+str(i)+'   : '}\"\n",
        "               f\"{r.importances_mean[i]:.3f}\"\n",
        "               f\" +/- {r.importances_std[i]:.3f}\")\n"
      ],
      "execution_count": null,
      "outputs": [
        {
          "output_type": "stream",
          "text": [
            "Feature 2   : 0.064 +/- 0.006\n",
            "Feature 7   : 0.018 +/- 0.005\n",
            "Feature 9   : 0.017 +/- 0.004\n",
            "Feature 1   : 0.008 +/- 0.003\n"
          ],
          "name": "stdout"
        }
      ]
    }
  ]
}